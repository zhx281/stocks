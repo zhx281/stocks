{
 "cells": [
  {
   "cell_type": "code",
   "execution_count": 1,
   "metadata": {},
   "outputs": [],
   "source": [
    "import numpy as np\n",
    "import pandas as pd\n",
    "import yfinance as yf"
   ]
  },
  {
   "attachments": {},
   "cell_type": "markdown",
   "metadata": {},
   "source": [
    "# Momentum Trading Strategy"
   ]
  },
  {
   "attachments": {},
   "cell_type": "markdown",
   "metadata": {},
   "source": [
    "## Download Data"
   ]
  },
  {
   "cell_type": "code",
   "execution_count": 2,
   "metadata": {},
   "outputs": [],
   "source": [
    "# Getting the Nasdaq 100 ticker symbols from Wikipedia\n",
    "nas_df = pd.read_html(\"https://en.wikipedia.org/wiki/Nasdaq-100\")[4]\n",
    "tickers = nas_df.Ticker.to_list()"
   ]
  },
  {
   "cell_type": "code",
   "execution_count": 6,
   "metadata": {},
   "outputs": [
    {
     "name": "stdout",
     "output_type": "stream",
     "text": [
      "[*********************100%***********************]  101 of 101 completed\n"
     ]
    }
   ],
   "source": [
    "# Download the Nasdaq 100 Adjusted Close price data with yfinance\n",
    "df = yf.download(tickers, start=\"2010-01-01\")[\"Adj Close\"]"
   ]
  },
  {
   "cell_type": "code",
   "execution_count": 4,
   "metadata": {},
   "outputs": [],
   "source": [
    "#df = df.dropna(axis=1)"
   ]
  },
  {
   "attachments": {},
   "cell_type": "markdown",
   "metadata": {},
   "source": [
    "## Basic"
   ]
  },
  {
   "cell_type": "code",
   "execution_count": 7,
   "metadata": {},
   "outputs": [],
   "source": [
    "# Calculate monthly return\n",
    "mtl = (df.pct_change() + 1)[1:].resample('M').prod()"
   ]
  },
  {
   "cell_type": "code",
   "execution_count": 8,
   "metadata": {},
   "outputs": [],
   "source": [
    "def get_rolling_ret(df, n):\n",
    "    return df.rolling(n).apply(np.prod)"
   ]
  },
  {
   "cell_type": "code",
   "execution_count": 9,
   "metadata": {},
   "outputs": [],
   "source": [
    "ret_12 = get_rolling_ret(mtl, 12)\n",
    "ret_6 = get_rolling_ret(mtl, 6)\n",
    "ret_3 = get_rolling_ret(mtl, 3)"
   ]
  },
  {
   "cell_type": "code",
   "execution_count": 10,
   "metadata": {},
   "outputs": [],
   "source": [
    "def get_top(date):\n",
    "    top_50 = ret_12.loc[date].nlargest(50).index\n",
    "    top_30 = ret_6.loc[date, top_50].nlargest(30).index\n",
    "    return ret_3.loc[date, top_30].nlargest(10).index"
   ]
  },
  {
   "cell_type": "code",
   "execution_count": 11,
   "metadata": {},
   "outputs": [],
   "source": [
    "def pf_performance(date):\n",
    "    portfolio = mtl.loc[date:, get_top(date)][1:2]\n",
    "    return portfolio.mean(axis=1).values[0]"
   ]
  },
  {
   "cell_type": "code",
   "execution_count": 12,
   "metadata": {},
   "outputs": [],
   "source": [
    "returns = []\n",
    "\n",
    "for date in mtl.index[12:-1]:\n",
    "    returns.append(pf_performance(date))"
   ]
  },
  {
   "cell_type": "code",
   "execution_count": 13,
   "metadata": {},
   "outputs": [
    {
     "name": "stdout",
     "output_type": "stream",
     "text": [
      "41.46\n"
     ]
    },
    {
     "data": {
      "text/plain": [
       "<AxesSubplot: xlabel='Date'>"
      ]
     },
     "execution_count": 13,
     "metadata": {},
     "output_type": "execute_result"
    },
    {
     "data": {
      "image/png": "[encoded data removed]",
      "text/plain": [
       "<Figure size 640x480 with 1 Axes>"
      ]
     },
     "metadata": {},
     "output_type": "display_data"
    }
   ],
   "source": [
    "ret_df = pd.Series(returns,index=mtl.index[13:])\n",
    "ret_p = ret_df.cumprod()[-1]\n",
    "print(f\"{ret_p:.2f}\")\n",
    "ret_df.cumprod().plot()"
   ]
  },
  {
   "attachments": {},
   "cell_type": "markdown",
   "metadata": {},
   "source": [
    "## High - Low"
   ]
  },
  {
   "cell_type": "code",
   "execution_count": 14,
   "metadata": {},
   "outputs": [
    {
     "name": "stdout",
     "output_type": "stream",
     "text": [
      "[*********************100%***********************]  101 of 101 completed\n"
     ]
    }
   ],
   "source": [
    "df = yf.download(tickers, start=\"2010-01-01\")"
   ]
  },
  {
   "cell_type": "code",
   "execution_count": 15,
   "metadata": {},
   "outputs": [],
   "source": [
    "\n",
    "# Grouping the monthly high, low, and close\n",
    "close = df['Close'].groupby(by=pd.Grouper(freq='M')).last()\n",
    "high = df['High'].groupby(by=pd.Grouper(freq='M')).max()\n",
    "low = df['Low'].groupby(by=pd.Grouper(freq='M')).min()"
   ]
  },
  {
   "cell_type": "code",
   "execution_count": 59,
   "metadata": {},
   "outputs": [],
   "source": [
    "sl = 2.2\n",
    "diff_c = close / close.shift(1)\n",
    "diff_h = high / close.shift(1)\n",
    "mask = diff_h > sl\n",
    "mtl_h = diff_h.copy()\n",
    "mtl_h[mask] = sl\n",
    "mtl_h[~mask] = diff_c[~mask]"
   ]
  },
  {
   "cell_type": "code",
   "execution_count": 60,
   "metadata": {},
   "outputs": [],
   "source": [
    "ret_12 = get_rolling_ret(diff_h, 12)\n",
    "ret_6 = get_rolling_ret(diff_h, 6)\n",
    "ret_3 = get_rolling_ret(diff_h, 3)\n",
    "\n",
    "def get_top(date):\n",
    "    top_50 = ret_12.loc[date].nlargest(50).index\n",
    "    top_30 = ret_6.loc[date, top_50].nlargest(30).index\n",
    "    return ret_3.loc[date, top_30].nlargest(10).index"
   ]
  },
  {
   "cell_type": "code",
   "execution_count": 61,
   "metadata": {},
   "outputs": [],
   "source": [
    "def pf_performance(date):\n",
    "    portfolio = mtl_h.loc[date:, get_top(date)][1:2]\n",
    "    return portfolio.mean(axis=1).values[0]"
   ]
  },
  {
   "cell_type": "code",
   "execution_count": 62,
   "metadata": {},
   "outputs": [],
   "source": [
    "returns = []\n",
    "\n",
    "for date in mtl_h.index[12:-1]:\n",
    "    returns.append(pf_performance(date))"
   ]
  },
  {
   "cell_type": "code",
   "execution_count": 63,
   "metadata": {},
   "outputs": [
    {
     "name": "stdout",
     "output_type": "stream",
     "text": [
      "53.76\n"
     ]
    },
    {
     "data": {
      "text/plain": [
       "<AxesSubplot: xlabel='Date'>"
      ]
     },
     "execution_count": 63,
     "metadata": {},
     "output_type": "execute_result"
    },
    {
     "data": {
      "image/png": "[encoded data removed]",
      "text/plain": [
       "<Figure size 640x480 with 1 Axes>"
      ]
     },
     "metadata": {},
     "output_type": "display_data"
    }
   ],
   "source": [
    "ret_df = pd.Series(returns,index=mtl.index[13:])\n",
    "ret_p = ret_df.cumprod()[-1]\n",
    "print(f\"{ret_p:.2f}\")\n",
    "ret_df.cumprod().plot()"
   ]
  },
  {
   "cell_type": "code",
   "execution_count": null,
   "metadata": {},
   "outputs": [],
   "source": []
  }
 ],
 "metadata": {
  "kernelspec": {
   "display_name": ".venv",
   "language": "python",
   "name": "python3"
  },
  "language_info": {
   "codemirror_mode": {
    "name": "ipython",
    "version": 3
   },
   "file_extension": ".py",
   "mimetype": "text/x-python",
   "name": "python",
   "nbconvert_exporter": "python",
   "pygments_lexer": "ipython3",
   "version": "3.10.6"
  },
  "orig_nbformat": 4,
  "vscode": {
   "interpreter": {
    "hash": "bb4badeff1c1a84dbbc32eb48fd237af44564825d0351354b5e73f8d50259fca"
   }
  }
 },
 "nbformat": 4,
 "nbformat_minor": 2
}
