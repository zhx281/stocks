{
 "cells": [
  {
   "cell_type": "code",
   "execution_count": 1,
   "metadata": {},
   "outputs": [],
   "source": [
    "import yfinance\n",
    "import numpy as np\n",
    "import pandas as pd"
   ]
  },
  {
   "cell_type": "markdown",
   "metadata": {},
   "source": [
    "# Download Price Data"
   ]
  },
  {
   "cell_type": "code",
   "execution_count": 71,
   "metadata": {},
   "outputs": [],
   "source": [
    "stock = yfinance.Ticker('AAPL')\n",
    "prices = stock.history(period='day', start='2017-01-01', end='2021-12-31')"
   ]
  },
  {
   "cell_type": "code",
   "execution_count": 72,
   "metadata": {},
   "outputs": [
    {
     "data": {
      "text/html": [
       "<div>\n",
       "<style scoped>\n",
       "    .dataframe tbody tr th:only-of-type {\n",
       "        vertical-align: middle;\n",
       "    }\n",
       "\n",
       "    .dataframe tbody tr th {\n",
       "        vertical-align: top;\n",
       "    }\n",
       "\n",
       "    .dataframe thead th {\n",
       "        text-align: right;\n",
       "    }\n",
       "</style>\n",
       "<table border=\"1\" class=\"dataframe\">\n",
       "  <thead>\n",
       "    <tr style=\"text-align: right;\">\n",
       "      <th></th>\n",
       "      <th>Open</th>\n",
       "      <th>High</th>\n",
       "      <th>Low</th>\n",
       "      <th>Close</th>\n",
       "      <th>Volume</th>\n",
       "      <th>Dividends</th>\n",
       "      <th>Stock Splits</th>\n",
       "    </tr>\n",
       "    <tr>\n",
       "      <th>Date</th>\n",
       "      <th></th>\n",
       "      <th></th>\n",
       "      <th></th>\n",
       "      <th></th>\n",
       "      <th></th>\n",
       "      <th></th>\n",
       "      <th></th>\n",
       "    </tr>\n",
       "  </thead>\n",
       "  <tbody>\n",
       "    <tr>\n",
       "      <th>2017-01-03</th>\n",
       "      <td>27.137815</td>\n",
       "      <td>27.262020</td>\n",
       "      <td>26.894090</td>\n",
       "      <td>27.219837</td>\n",
       "      <td>115127600</td>\n",
       "      <td>0.0</td>\n",
       "      <td>0.0</td>\n",
       "    </tr>\n",
       "    <tr>\n",
       "      <th>2017-01-04</th>\n",
       "      <td>27.149530</td>\n",
       "      <td>27.304202</td>\n",
       "      <td>27.126095</td>\n",
       "      <td>27.189369</td>\n",
       "      <td>84472400</td>\n",
       "      <td>0.0</td>\n",
       "      <td>0.0</td>\n",
       "    </tr>\n",
       "    <tr>\n",
       "      <th>2017-01-05</th>\n",
       "      <td>27.165932</td>\n",
       "      <td>27.386222</td>\n",
       "      <td>27.140154</td>\n",
       "      <td>27.327635</td>\n",
       "      <td>88774400</td>\n",
       "      <td>0.0</td>\n",
       "      <td>0.0</td>\n",
       "    </tr>\n",
       "    <tr>\n",
       "      <th>2017-01-06</th>\n",
       "      <td>27.367478</td>\n",
       "      <td>27.690883</td>\n",
       "      <td>27.294830</td>\n",
       "      <td>27.632296</td>\n",
       "      <td>127007600</td>\n",
       "      <td>0.0</td>\n",
       "      <td>0.0</td>\n",
       "    </tr>\n",
       "    <tr>\n",
       "      <th>2017-01-09</th>\n",
       "      <td>27.641661</td>\n",
       "      <td>27.988500</td>\n",
       "      <td>27.639318</td>\n",
       "      <td>27.885386</td>\n",
       "      <td>134247600</td>\n",
       "      <td>0.0</td>\n",
       "      <td>0.0</td>\n",
       "    </tr>\n",
       "    <tr>\n",
       "      <th>...</th>\n",
       "      <td>...</td>\n",
       "      <td>...</td>\n",
       "      <td>...</td>\n",
       "      <td>...</td>\n",
       "      <td>...</td>\n",
       "      <td>...</td>\n",
       "      <td>...</td>\n",
       "    </tr>\n",
       "    <tr>\n",
       "      <th>2021-12-23</th>\n",
       "      <td>175.125322</td>\n",
       "      <td>176.121201</td>\n",
       "      <td>174.547711</td>\n",
       "      <td>175.553543</td>\n",
       "      <td>68356600</td>\n",
       "      <td>0.0</td>\n",
       "      <td>0.0</td>\n",
       "    </tr>\n",
       "    <tr>\n",
       "      <th>2021-12-27</th>\n",
       "      <td>176.360215</td>\n",
       "      <td>179.676494</td>\n",
       "      <td>176.340308</td>\n",
       "      <td>179.586868</td>\n",
       "      <td>74919600</td>\n",
       "      <td>0.0</td>\n",
       "      <td>0.0</td>\n",
       "    </tr>\n",
       "    <tr>\n",
       "      <th>2021-12-28</th>\n",
       "      <td>179.417573</td>\n",
       "      <td>180.582749</td>\n",
       "      <td>177.794285</td>\n",
       "      <td>178.551147</td>\n",
       "      <td>79144300</td>\n",
       "      <td>0.0</td>\n",
       "      <td>0.0</td>\n",
       "    </tr>\n",
       "    <tr>\n",
       "      <th>2021-12-29</th>\n",
       "      <td>178.590981</td>\n",
       "      <td>179.885626</td>\n",
       "      <td>177.405882</td>\n",
       "      <td>178.640778</td>\n",
       "      <td>62348900</td>\n",
       "      <td>0.0</td>\n",
       "      <td>0.0</td>\n",
       "    </tr>\n",
       "    <tr>\n",
       "      <th>2021-12-30</th>\n",
       "      <td>178.730408</td>\n",
       "      <td>179.825881</td>\n",
       "      <td>177.356090</td>\n",
       "      <td>177.465637</td>\n",
       "      <td>59773000</td>\n",
       "      <td>0.0</td>\n",
       "      <td>0.0</td>\n",
       "    </tr>\n",
       "  </tbody>\n",
       "</table>\n",
       "<p>1258 rows × 7 columns</p>\n",
       "</div>"
      ],
      "text/plain": [
       "                  Open        High         Low       Close     Volume  \\\n",
       "Date                                                                    \n",
       "2017-01-03   27.137815   27.262020   26.894090   27.219837  115127600   \n",
       "2017-01-04   27.149530   27.304202   27.126095   27.189369   84472400   \n",
       "2017-01-05   27.165932   27.386222   27.140154   27.327635   88774400   \n",
       "2017-01-06   27.367478   27.690883   27.294830   27.632296  127007600   \n",
       "2017-01-09   27.641661   27.988500   27.639318   27.885386  134247600   \n",
       "...                ...         ...         ...         ...        ...   \n",
       "2021-12-23  175.125322  176.121201  174.547711  175.553543   68356600   \n",
       "2021-12-27  176.360215  179.676494  176.340308  179.586868   74919600   \n",
       "2021-12-28  179.417573  180.582749  177.794285  178.551147   79144300   \n",
       "2021-12-29  178.590981  179.885626  177.405882  178.640778   62348900   \n",
       "2021-12-30  178.730408  179.825881  177.356090  177.465637   59773000   \n",
       "\n",
       "            Dividends  Stock Splits  \n",
       "Date                                 \n",
       "2017-01-03        0.0           0.0  \n",
       "2017-01-04        0.0           0.0  \n",
       "2017-01-05        0.0           0.0  \n",
       "2017-01-06        0.0           0.0  \n",
       "2017-01-09        0.0           0.0  \n",
       "...               ...           ...  \n",
       "2021-12-23        0.0           0.0  \n",
       "2021-12-27        0.0           0.0  \n",
       "2021-12-28        0.0           0.0  \n",
       "2021-12-29        0.0           0.0  \n",
       "2021-12-30        0.0           0.0  \n",
       "\n",
       "[1258 rows x 7 columns]"
      ]
     },
     "execution_count": 72,
     "metadata": {},
     "output_type": "execute_result"
    }
   ],
   "source": [
    "prices"
   ]
  },
  {
   "cell_type": "markdown",
   "metadata": {},
   "source": [
    "# Strategy\n",
    "The strategy is to buy the stock at a low price and sell the stock at a high price."
   ]
  },
  {
   "cell_type": "markdown",
   "metadata": {},
   "source": [
    "### Calculating the base\n",
    "\n",
    "Basicly, calculating the base backtest result when stock was brought at the current close price, then sold next day's close price. This means we have create a way to skip a day with our current dataset."
   ]
  },
  {
   "cell_type": "code",
   "execution_count": 73,
   "metadata": {},
   "outputs": [],
   "source": [
    "class Sim:\n",
    "    def __init__(self):\n",
    "        self.buy_at = 0\n",
    "        self.is_holding = False\n",
    "        self.results = []\n",
    "\n",
    "    def play(self, data, a:str=\"Close\", b:str=\"Close\"):\n",
    "        for d, row in data.iterrows():\n",
    "            if not self.is_holding:\n",
    "                self.buy_logic(row, a)\n",
    "            else:\n",
    "                self.sell_logic(row, b)\n",
    "    \n",
    "    def buy_logic(self, row, a):\n",
    "        self.buy_at = row[a]\n",
    "        self.is_holding = True\n",
    "    \n",
    "    def sell_logic(self, row, b):\n",
    "        self.results.append(row[b] / self.buy_at - 1)\n",
    "        self.is_holding = False\n",
    "\n",
    "    def get_results(self):\n",
    "        return pd.Series(self.results)\n",
    "\n",
    "    def display_results(self):\n",
    "        results = self.get_results()\n",
    "        accum = (results + 1).prod()\n",
    "        volatility = results.std()\n",
    "        print(f\"Accumulative result: {accum*100:.2f}%\")\n",
    "        print(f\"Volatility: {volatility*100:.2f}%\")\n",
    "        results.hist(bins=100)"
   ]
  },
  {
   "cell_type": "code",
   "execution_count": 74,
   "metadata": {},
   "outputs": [
    {
     "name": "stdout",
     "output_type": "stream",
     "text": [
      "Accumulative result: 271.70%\n",
      "Volatility: 1.76%\n"
     ]
    },
    {
     "data": {
      "image/png": "[encoded data removed]",
      "text/plain": [
       "<Figure size 640x480 with 1 Axes>"
      ]
     },
     "metadata": {},
     "output_type": "display_data"
    }
   ],
   "source": [
    "baseline = Sim()\n",
    "baseline.play(prices, a=\"Close\", b=\"Close\")\n",
    "baseline.display_results()"
   ]
  },
  {
   "cell_type": "code",
   "execution_count": 75,
   "metadata": {},
   "outputs": [
    {
     "name": "stdout",
     "output_type": "stream",
     "text": [
      "Accumulative result: 230009.74%\n",
      "Volatility: 1.68%\n"
     ]
    },
    {
     "data": {
      "image/png": "[encoded data removed]",
      "text/plain": [
       "<Figure size 640x480 with 1 Axes>"
      ]
     },
     "metadata": {},
     "output_type": "display_data"
    }
   ],
   "source": [
    "baseline.play(prices, a=\"Close\", b=\"High\")\n",
    "baseline.display_results()"
   ]
  },
  {
   "cell_type": "code",
   "execution_count": 76,
   "metadata": {},
   "outputs": [
    {
     "name": "stdout",
     "output_type": "stream",
     "text": [
      "Accumulative result: 140776610259.02%\n",
      "Volatility: 1.86%\n"
     ]
    },
    {
     "data": {
      "image/png": "[encoded data removed]",
      "text/plain": [
       "<Figure size 640x480 with 1 Axes>"
      ]
     },
     "metadata": {},
     "output_type": "display_data"
    }
   ],
   "source": [
    "baseline.play(prices, a=\"Low\", b=\"High\")\n",
    "baseline.display_results()"
   ]
  },
  {
   "cell_type": "markdown",
   "metadata": {},
   "source": [
    "As we can see when change when to buy or sell can dramatically change the accumulative results."
   ]
  },
  {
   "cell_type": "markdown",
   "metadata": {},
   "source": [
    "### Trailing High\n",
    "\n",
    "One way to adopt the above result is to use a kind of trailing limit to sell the stock at an given percentage below the high."
   ]
  },
  {
   "cell_type": "code",
   "execution_count": 77,
   "metadata": {},
   "outputs": [],
   "source": [
    "class TrailingHigh(Sim):\n",
    "    def __init__(self, pct:float):\n",
    "        super().__init__()\n",
    "        self.pct = pct\n",
    "    \n",
    "    def buy_logic(self, row, a):\n",
    "        self.buy_at = row[a]\n",
    "        self.is_holding = True\n",
    "    \n",
    "    def sell_logic(self, row, b):\n",
    "        sell_price = row.High * (1 - self.pct)\n",
    "        if row.Low < sell_price < row.High:\n",
    "            sell_at = sell_price / self.buy_at - 1\n",
    "        else:\n",
    "            sell_at = row.Close / self.buy_at - 1\n",
    "        self.results.append(sell_at)\n",
    "        self.is_holding = False"
   ]
  },
  {
   "cell_type": "code",
   "execution_count": 78,
   "metadata": {},
   "outputs": [
    {
     "name": "stdout",
     "output_type": "stream",
     "text": [
      "Accumulative result: 660.49%\n",
      "Volatility: 1.44%\n"
     ]
    },
    {
     "data": {
      "image/png": "[encoded data removed]",
      "text/plain": [
       "<Figure size 640x480 with 1 Axes>"
      ]
     },
     "metadata": {},
     "output_type": "display_data"
    }
   ],
   "source": [
    "trailing_high = TrailingHigh(.008)\n",
    "trailing_high.play(prices)\n",
    "trailing_high.display_results()"
   ]
  },
  {
   "cell_type": "code",
   "execution_count": null,
   "metadata": {},
   "outputs": [],
   "source": []
  }
 ],
 "metadata": {
  "kernelspec": {
   "display_name": ".venv",
   "language": "python",
   "name": "python3"
  },
  "language_info": {
   "codemirror_mode": {
    "name": "ipython",
    "version": 3
   },
   "file_extension": ".py",
   "mimetype": "text/x-python",
   "name": "python",
   "nbconvert_exporter": "python",
   "pygments_lexer": "ipython3",
   "version": "3.10.6"
  },
  "orig_nbformat": 4,
  "vscode": {
   "interpreter": {
    "hash": "bb4badeff1c1a84dbbc32eb48fd237af44564825d0351354b5e73f8d50259fca"
   }
  }
 },
 "nbformat": 4,
 "nbformat_minor": 2
}
