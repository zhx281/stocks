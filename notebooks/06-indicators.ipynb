{
 "cells": [
  {
   "cell_type": "code",
   "execution_count": 1,
   "metadata": {},
   "outputs": [],
   "source": [
    "import numpy as np\n",
    "import pandas as pd\n",
    "import yfinance as yf"
   ]
  },
  {
   "attachments": {},
   "cell_type": "markdown",
   "metadata": {},
   "source": [
    "## Indicators"
   ]
  },
  {
   "cell_type": "code",
   "execution_count": 3,
   "metadata": {},
   "outputs": [],
   "source": [
    "def VWAP(df, window=10):\n",
    "    price = df[['High', 'Low', 'Close']].mean(1)\n",
    "    vol = df['Volume']\n",
    "    return (price * vol).rolling(window).sum() / vol.rolling(window).sum()"
   ]
  },
  {
   "cell_type": "code",
   "execution_count": 4,
   "metadata": {},
   "outputs": [],
   "source": [
    "def ATR(df, window=14):\n",
    "    tr = df[['High', 'Low', 'Close']].apply(\n",
    "        lambda x: x.max() - x.min(), axis=1)\n",
    "    return tr.rolling(window).mean()"
   ]
  },
  {
   "cell_type": "code",
   "execution_count": 5,
   "metadata": {},
   "outputs": [],
   "source": [
    "def BollingerBands(df, window=20, m=2):\n",
    "    sma = df['Close'].rolling(window).mean()\n",
    "    std = df['Close'].rolling(window).std()\n",
    "    df['Upper_BB'] = sma + (std * m)\n",
    "    df['Lower_BB'] = sma - (std * m)\n",
    "    df['Middle_BB'] = sma\n",
    "    return df"
   ]
  },
  {
   "cell_type": "code",
   "execution_count": null,
   "metadata": {},
   "outputs": [],
   "source": []
  }
 ],
 "metadata": {
  "kernelspec": {
   "display_name": ".venv",
   "language": "python",
   "name": "python3"
  },
  "language_info": {
   "codemirror_mode": {
    "name": "ipython",
    "version": 3
   },
   "file_extension": ".py",
   "mimetype": "text/x-python",
   "name": "python",
   "nbconvert_exporter": "python",
   "pygments_lexer": "ipython3",
   "version": "3.10.6"
  },
  "orig_nbformat": 4,
  "vscode": {
   "interpreter": {
    "hash": "bb4badeff1c1a84dbbc32eb48fd237af44564825d0351354b5e73f8d50259fca"
   }
  }
 },
 "nbformat": 4,
 "nbformat_minor": 2
}
