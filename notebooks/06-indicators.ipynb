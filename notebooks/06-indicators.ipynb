{
 "cells": [
  {
   "cell_type": "code",
   "execution_count": 1,
   "metadata": {},
   "outputs": [],
   "source": [
    "import numpy as np\n",
    "import pandas as pd\n",
    "import yfinance as yf"
   ]
  },
  {
   "attachments": {},
   "cell_type": "markdown",
   "metadata": {},
   "source": [
    "## Indicators"
   ]
  },
  {
   "cell_type": "code",
   "execution_count": 2,
   "metadata": {},
   "outputs": [],
   "source": [
    "def VWAP(df, window=10):\n",
    "    price = df[['High', 'Low', 'Close']].mean(1)\n",
    "    vol = df['Volume']\n",
    "    return (price * vol).rolling(window).sum() / vol.rolling(window).sum()"
   ]
  },
  {
   "cell_type": "code",
   "execution_count": 3,
   "metadata": {},
   "outputs": [],
   "source": [
    "def ATR(df, window=14):\n",
    "    tr = df[['High', 'Low', 'Close']].apply(\n",
    "        lambda x: x.max() - x.min(), axis=1)\n",
    "    return tr.rolling(window).mean()"
   ]
  },
  {
   "cell_type": "code",
   "execution_count": 4,
   "metadata": {},
   "outputs": [],
   "source": [
    "def BollingerBands(df, window=20, m=2):\n",
    "    sma = df['Close'].rolling(window).mean()\n",
    "    std = df['Close'].rolling(window).std()\n",
    "    df['Upper_BB'] = sma + (std * m)\n",
    "    df['Lower_BB'] = sma - (std * m)\n",
    "    df['Middle_BB'] = sma\n",
    "    return df"
   ]
  },
  {
   "cell_type": "code",
   "execution_count": 5,
   "metadata": {},
   "outputs": [],
   "source": [
    "def get_date(date, s, e, include_end=False):\n",
    "    if include_end:\n",
    "        return date[(date >= s) & (date <= e)]\n",
    "    return date[(date >= s) & (date < e)]"
   ]
  },
  {
   "cell_type": "code",
   "execution_count": 6,
   "metadata": {},
   "outputs": [],
   "source": [
    "def groupby(df, freq):\n",
    "    return df.groupby(by=pd.Grouper(freq=freq))\n",
    "\n",
    "def regroup(df, freq='W'):\n",
    "    o = groupby(df['Open'], freq).first()\n",
    "    h = groupby(df['High'], freq).max()\n",
    "    l = groupby(df['Low'], freq).min()\n",
    "    c = groupby(df['Close'], freq).last()\n",
    "    grouped = pd.concat([o, h, l, c], axis=1)\n",
    "    grouped.columns = ['Open', 'High', 'Low', 'Close']\n",
    "    return grouped"
   ]
  },
  {
   "cell_type": "code",
   "execution_count": 7,
   "metadata": {},
   "outputs": [],
   "source": [
    "def status(df):\n",
    "    ys = df.groupby(by=pd.Grouper(freq='Y'))\n",
    "    concat = pd.concat([ys.mean(),\n",
    "                        ys.prod(),\n",
    "                        ys.apply(lambda x: np.mean(x > 1))], axis=1)\n",
    "    concat.columns = ['avg_gain', 'return', 'win_rate']\n",
    "    concat.index = [idx.year for idx in concat.index]\n",
    "    concat.loc['D'] = [concat['avg_gain'].mean(), \n",
    "                       concat['return'].prod(), \n",
    "                       concat['win_rate'].mean()]\n",
    "    return concat"
   ]
  },
  {
   "cell_type": "code",
   "execution_count": 71,
   "metadata": {},
   "outputs": [],
   "source": [
    "def cal_pct(df, tp: float):\n",
    "    pct_max = (df['High'] / df['Close'].shift()).dropna()\n",
    "    pct =  (df['Close'] / df['Close'].shift()).dropna()\n",
    "    \n",
    "    m = pct_max > (1 + tp)\n",
    "    pct[m] = pct_max[m] * (1 - tp)\n",
    "    return pct"
   ]
  },
  {
   "cell_type": "code",
   "execution_count": 72,
   "metadata": {},
   "outputs": [],
   "source": [
    "def get_status(df, s, e, tp):\n",
    "    data = cal_pct(df, tp=tp)\n",
    "    date = get_date(data.index, s, e, True)\n",
    "    return status(data[date])"
   ]
  },
  {
   "attachments": {},
   "cell_type": "markdown",
   "metadata": {},
   "source": [
    "## Daily figures"
   ]
  },
  {
   "cell_type": "code",
   "execution_count": 10,
   "metadata": {},
   "outputs": [],
   "source": [
    "import os\n",
    "\n",
    "cwd = os.getcwd()\n",
    "# Check if price data have been saved\n",
    "price_data = os.path.join(cwd, \"price_data\")\n",
    "if not os.path.exists(price_data):\n",
    "    # Getting the Nasdaq 100 ticker symbols from Wikipedia\n",
    "    nas_df = pd.read_html(\"https://en.wikipedia.org/wiki/Nasdaq-100\")[4]\n",
    "    tickers = nas_df.Ticker.to_list()\n",
    "    # Download the Nasdaq 100 Adjusted Close price data with yfinance\n",
    "    df = yf.download(tickers, start=\"2010-01-01\")\n",
    "    # Create price_data directory\n",
    "    os.makedirs(price_data)\n",
    "    # Save a copy of the dataframe to price_data directory\n",
    "    df.to_csv(os.path.join(price_data, \"Nasdaq-100.csv\"))\n",
    "else:\n",
    "    # Load the Nasdaq-100.csv\n",
    "    df = pd.read_csv(os.path.join(price_data, \"Nasdaq-100.csv\"), \n",
    "                     header=[0,1], index_col=0)\n",
    "    df.index = pd.to_datetime(df.index)"
   ]
  },
  {
   "cell_type": "code",
   "execution_count": 73,
   "metadata": {},
   "outputs": [],
   "source": [
    "sdf = df.swaplevel(axis=1)"
   ]
  },
  {
   "attachments": {},
   "cell_type": "markdown",
   "metadata": {},
   "source": [
    "## Analysis"
   ]
  },
  {
   "cell_type": "code",
   "execution_count": 86,
   "metadata": {},
   "outputs": [],
   "source": [
    "data = regroup(sdf['TSLA'].copy(), 'W')"
   ]
  },
  {
   "cell_type": "code",
   "execution_count": 88,
   "metadata": {},
   "outputs": [
    {
     "name": "stdout",
     "output_type": "stream",
     "text": [
      "0.01\n"
     ]
    },
    {
     "data": {
      "text/html": [
       "<div>\n",
       "<style scoped>\n",
       "    .dataframe tbody tr th:only-of-type {\n",
       "        vertical-align: middle;\n",
       "    }\n",
       "\n",
       "    .dataframe tbody tr th {\n",
       "        vertical-align: top;\n",
       "    }\n",
       "\n",
       "    .dataframe thead th {\n",
       "        text-align: right;\n",
       "    }\n",
       "</style>\n",
       "<table border=\"1\" class=\"dataframe\">\n",
       "  <thead>\n",
       "    <tr style=\"text-align: right;\">\n",
       "      <th></th>\n",
       "      <th>avg_gain</th>\n",
       "      <th>return</th>\n",
       "      <th>win_rate</th>\n",
       "    </tr>\n",
       "  </thead>\n",
       "  <tbody>\n",
       "    <tr>\n",
       "      <th>2021</th>\n",
       "      <td>1.037948</td>\n",
       "      <td>6.031510</td>\n",
       "      <td>0.826923</td>\n",
       "    </tr>\n",
       "    <tr>\n",
       "      <th>2022</th>\n",
       "      <td>1.030355</td>\n",
       "      <td>4.049585</td>\n",
       "      <td>0.788462</td>\n",
       "    </tr>\n",
       "    <tr>\n",
       "      <th>D</th>\n",
       "      <td>1.034151</td>\n",
       "      <td>24.425116</td>\n",
       "      <td>0.807692</td>\n",
       "    </tr>\n",
       "  </tbody>\n",
       "</table>\n",
       "</div>"
      ],
      "text/plain": [
       "      avg_gain     return  win_rate\n",
       "2021  1.037948   6.031510  0.826923\n",
       "2022  1.030355   4.049585  0.788462\n",
       "D     1.034151  24.425116  0.807692"
      ]
     },
     "execution_count": 88,
     "metadata": {},
     "output_type": "execute_result"
    }
   ],
   "source": [
    "rang = np.arange(.01, 1, step=.01)\n",
    "score = pd.DataFrame(columns=['avg_gain', 'return', 'win_rate'])\n",
    "for i, r in enumerate(rang):\n",
    "    stat = get_status(data, '2010-01-01', '2020-12-31', tp=r)\n",
    "    score.loc[r] = [stat.loc['D', 'avg_gain'],\n",
    "                    stat.loc['D', 'return'], \n",
    "                    stat.loc['D', 'win_rate']]\n",
    "pct = score['return'].nlargest(1).index.values[0]\n",
    "\n",
    "print(pct)\n",
    "stat = get_status(data, '2021-01-01', '2022-12-31', tp=pct)\n",
    "stat"
   ]
  },
  {
   "cell_type": "code",
   "execution_count": null,
   "metadata": {},
   "outputs": [],
   "source": []
  }
 ],
 "metadata": {
  "kernelspec": {
   "display_name": ".venv",
   "language": "python",
   "name": "python3"
  },
  "language_info": {
   "codemirror_mode": {
    "name": "ipython",
    "version": 3
   },
   "file_extension": ".py",
   "mimetype": "text/x-python",
   "name": "python",
   "nbconvert_exporter": "python",
   "pygments_lexer": "ipython3",
   "version": "3.10.6"
  },
  "orig_nbformat": 4,
  "vscode": {
   "interpreter": {
    "hash": "bb4badeff1c1a84dbbc32eb48fd237af44564825d0351354b5e73f8d50259fca"
   }
  }
 },
 "nbformat": 4,
 "nbformat_minor": 2
}
