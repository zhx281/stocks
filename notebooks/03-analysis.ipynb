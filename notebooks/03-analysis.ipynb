{
 "cells": [
  {
   "cell_type": "code",
   "execution_count": 1,
   "metadata": {},
   "outputs": [],
   "source": [
    "import yfinance\n",
    "import numpy as np\n",
    "import pandas as pd"
   ]
  },
  {
   "cell_type": "markdown",
   "metadata": {},
   "source": [
    "# Download Prices Data\n",
    "\n",
    "Using the yfinance library to download daily price data."
   ]
  },
  {
   "cell_type": "code",
   "execution_count": 27,
   "metadata": {},
   "outputs": [],
   "source": [
    "# @title Change this to get data for different stock\n",
    "symbol = \"AAPL\" # @param {type:\"string\"}\n",
    "start_date = \"2017-01-01\" # @param {type:\"string\"}\n",
    "end_date = \"2021-12-31\" # @param {type: \"string\"}\n",
    "\n",
    "ticker = yfinance.Ticker(symbol)\n",
    "prices = ticker.history(period=\"day\", start=start_date, end=end_date)"
   ]
  },
  {
   "cell_type": "code",
   "execution_count": 28,
   "metadata": {},
   "outputs": [
    {
     "data": {
      "text/html": [
       "<div>\n",
       "<style scoped>\n",
       "    .dataframe tbody tr th:only-of-type {\n",
       "        vertical-align: middle;\n",
       "    }\n",
       "\n",
       "    .dataframe tbody tr th {\n",
       "        vertical-align: top;\n",
       "    }\n",
       "\n",
       "    .dataframe thead th {\n",
       "        text-align: right;\n",
       "    }\n",
       "</style>\n",
       "<table border=\"1\" class=\"dataframe\">\n",
       "  <thead>\n",
       "    <tr style=\"text-align: right;\">\n",
       "      <th></th>\n",
       "      <th>Open</th>\n",
       "      <th>High</th>\n",
       "      <th>Low</th>\n",
       "      <th>Close</th>\n",
       "      <th>Volume</th>\n",
       "      <th>Dividends</th>\n",
       "      <th>Stock Splits</th>\n",
       "    </tr>\n",
       "    <tr>\n",
       "      <th>Date</th>\n",
       "      <th></th>\n",
       "      <th></th>\n",
       "      <th></th>\n",
       "      <th></th>\n",
       "      <th></th>\n",
       "      <th></th>\n",
       "      <th></th>\n",
       "    </tr>\n",
       "  </thead>\n",
       "  <tbody>\n",
       "    <tr>\n",
       "      <th>2017-01-03</th>\n",
       "      <td>27.137805</td>\n",
       "      <td>27.262011</td>\n",
       "      <td>26.894080</td>\n",
       "      <td>27.219828</td>\n",
       "      <td>115127600</td>\n",
       "      <td>0.0</td>\n",
       "      <td>0.0</td>\n",
       "    </tr>\n",
       "    <tr>\n",
       "      <th>2017-01-04</th>\n",
       "      <td>27.149532</td>\n",
       "      <td>27.304204</td>\n",
       "      <td>27.126097</td>\n",
       "      <td>27.189371</td>\n",
       "      <td>84472400</td>\n",
       "      <td>0.0</td>\n",
       "      <td>0.0</td>\n",
       "    </tr>\n",
       "    <tr>\n",
       "      <th>2017-01-05</th>\n",
       "      <td>27.165932</td>\n",
       "      <td>27.386222</td>\n",
       "      <td>27.140154</td>\n",
       "      <td>27.327635</td>\n",
       "      <td>88774400</td>\n",
       "      <td>0.0</td>\n",
       "      <td>0.0</td>\n",
       "    </tr>\n",
       "    <tr>\n",
       "      <th>2017-01-06</th>\n",
       "      <td>27.367474</td>\n",
       "      <td>27.690879</td>\n",
       "      <td>27.294826</td>\n",
       "      <td>27.632292</td>\n",
       "      <td>127007600</td>\n",
       "      <td>0.0</td>\n",
       "      <td>0.0</td>\n",
       "    </tr>\n",
       "    <tr>\n",
       "      <th>2017-01-09</th>\n",
       "      <td>27.641668</td>\n",
       "      <td>27.988508</td>\n",
       "      <td>27.639326</td>\n",
       "      <td>27.885393</td>\n",
       "      <td>134247600</td>\n",
       "      <td>0.0</td>\n",
       "      <td>0.0</td>\n",
       "    </tr>\n",
       "    <tr>\n",
       "      <th>...</th>\n",
       "      <td>...</td>\n",
       "      <td>...</td>\n",
       "      <td>...</td>\n",
       "      <td>...</td>\n",
       "      <td>...</td>\n",
       "      <td>...</td>\n",
       "      <td>...</td>\n",
       "    </tr>\n",
       "    <tr>\n",
       "      <th>2021-12-23</th>\n",
       "      <td>175.125322</td>\n",
       "      <td>176.121201</td>\n",
       "      <td>174.547711</td>\n",
       "      <td>175.553543</td>\n",
       "      <td>68356600</td>\n",
       "      <td>0.0</td>\n",
       "      <td>0.0</td>\n",
       "    </tr>\n",
       "    <tr>\n",
       "      <th>2021-12-27</th>\n",
       "      <td>176.360215</td>\n",
       "      <td>179.676494</td>\n",
       "      <td>176.340308</td>\n",
       "      <td>179.586868</td>\n",
       "      <td>74919600</td>\n",
       "      <td>0.0</td>\n",
       "      <td>0.0</td>\n",
       "    </tr>\n",
       "    <tr>\n",
       "      <th>2021-12-28</th>\n",
       "      <td>179.417557</td>\n",
       "      <td>180.582734</td>\n",
       "      <td>177.794270</td>\n",
       "      <td>178.551132</td>\n",
       "      <td>79144300</td>\n",
       "      <td>0.0</td>\n",
       "      <td>0.0</td>\n",
       "    </tr>\n",
       "    <tr>\n",
       "      <th>2021-12-29</th>\n",
       "      <td>178.590981</td>\n",
       "      <td>179.885626</td>\n",
       "      <td>177.405882</td>\n",
       "      <td>178.640778</td>\n",
       "      <td>62348900</td>\n",
       "      <td>0.0</td>\n",
       "      <td>0.0</td>\n",
       "    </tr>\n",
       "    <tr>\n",
       "      <th>2021-12-30</th>\n",
       "      <td>178.730408</td>\n",
       "      <td>179.825881</td>\n",
       "      <td>177.356090</td>\n",
       "      <td>177.465637</td>\n",
       "      <td>59773000</td>\n",
       "      <td>0.0</td>\n",
       "      <td>0.0</td>\n",
       "    </tr>\n",
       "  </tbody>\n",
       "</table>\n",
       "<p>1258 rows × 7 columns</p>\n",
       "</div>"
      ],
      "text/plain": [
       "                  Open        High         Low       Close     Volume  \\\n",
       "Date                                                                    \n",
       "2017-01-03   27.137805   27.262011   26.894080   27.219828  115127600   \n",
       "2017-01-04   27.149532   27.304204   27.126097   27.189371   84472400   \n",
       "2017-01-05   27.165932   27.386222   27.140154   27.327635   88774400   \n",
       "2017-01-06   27.367474   27.690879   27.294826   27.632292  127007600   \n",
       "2017-01-09   27.641668   27.988508   27.639326   27.885393  134247600   \n",
       "...                ...         ...         ...         ...        ...   \n",
       "2021-12-23  175.125322  176.121201  174.547711  175.553543   68356600   \n",
       "2021-12-27  176.360215  179.676494  176.340308  179.586868   74919600   \n",
       "2021-12-28  179.417557  180.582734  177.794270  178.551132   79144300   \n",
       "2021-12-29  178.590981  179.885626  177.405882  178.640778   62348900   \n",
       "2021-12-30  178.730408  179.825881  177.356090  177.465637   59773000   \n",
       "\n",
       "            Dividends  Stock Splits  \n",
       "Date                                 \n",
       "2017-01-03        0.0           0.0  \n",
       "2017-01-04        0.0           0.0  \n",
       "2017-01-05        0.0           0.0  \n",
       "2017-01-06        0.0           0.0  \n",
       "2017-01-09        0.0           0.0  \n",
       "...               ...           ...  \n",
       "2021-12-23        0.0           0.0  \n",
       "2021-12-27        0.0           0.0  \n",
       "2021-12-28        0.0           0.0  \n",
       "2021-12-29        0.0           0.0  \n",
       "2021-12-30        0.0           0.0  \n",
       "\n",
       "[1258 rows x 7 columns]"
      ]
     },
     "execution_count": 28,
     "metadata": {},
     "output_type": "execute_result"
    }
   ],
   "source": [
    "prices"
   ]
  },
  {
   "cell_type": "markdown",
   "metadata": {},
   "source": [
    "# Analysis\n",
    "\n",
    "Analysising the distribution range of current close to next low and current close to next high."
   ]
  },
  {
   "cell_type": "markdown",
   "metadata": {},
   "source": [
    "### Split the data into buy and sell"
   ]
  },
  {
   "cell_type": "code",
   "execution_count": 4,
   "metadata": {},
   "outputs": [],
   "source": [
    "length = len(prices)\n",
    "batches = 2\n",
    "total_batches = length // batches\n",
    "max_length = total_batches * batches\n",
    "dates = np.array(prices.index)[-max_length:].reshape(-1, batches)\n",
    "buy_mask = dates[:, 0]\n",
    "sell_mask = dates[:, -1]"
   ]
  },
  {
   "cell_type": "markdown",
   "metadata": {},
   "source": [
    "### Calculate current to next low\n",
    "\n",
    "Basicly getting an idea the distribution of when prices is keep."
   ]
  },
  {
   "cell_type": "code",
   "execution_count": 5,
   "metadata": {},
   "outputs": [],
   "source": [
    "current_close = prices.loc[buy_mask, \"Close\"].reset_index(drop=True)"
   ]
  },
  {
   "cell_type": "code",
   "execution_count": 6,
   "metadata": {},
   "outputs": [],
   "source": [
    "next_low = prices.loc[sell_mask, \"Low\"].reset_index(drop=True)"
   ]
  },
  {
   "cell_type": "markdown",
   "metadata": {},
   "source": [
    "Getting the log percentage of the dropped prices to see where the underline buying pressure."
   ]
  },
  {
   "cell_type": "code",
   "execution_count": 8,
   "metadata": {},
   "outputs": [
    {
     "data": {
      "text/plain": [
       "<AxesSubplot: >"
      ]
     },
     "execution_count": 8,
     "metadata": {},
     "output_type": "execute_result"
    },
    {
     "data": {
      "image/png": "[encoded data removed]",
      "text/plain": [
       "<Figure size 640x480 with 1 Axes>"
      ]
     },
     "metadata": {},
     "output_type": "display_data"
    }
   ],
   "source": [
    "dropped = (next_low / current_close).apply(np.log)\n",
    "dropped.hist(bins=100)"
   ]
  },
  {
   "cell_type": "markdown",
   "metadata": {},
   "source": [
    "### Calculate current to next high\n",
    "\n",
    "Distribution of when sell pressure is formed."
   ]
  },
  {
   "cell_type": "code",
   "execution_count": 10,
   "metadata": {},
   "outputs": [],
   "source": [
    "next_high = prices.loc[sell_mask, \"High\"].reset_index(drop=True)"
   ]
  },
  {
   "cell_type": "markdown",
   "metadata": {},
   "source": [
    "Getting the log percentage of the hyped prices to see where the underline selling pressure."
   ]
  },
  {
   "cell_type": "code",
   "execution_count": 11,
   "metadata": {},
   "outputs": [
    {
     "data": {
      "text/plain": [
       "<AxesSubplot: >"
      ]
     },
     "execution_count": 11,
     "metadata": {},
     "output_type": "execute_result"
    },
    {
     "data": {
      "image/png": "[encoded data removed]",
      "text/plain": [
       "<Figure size 640x480 with 1 Axes>"
      ]
     },
     "metadata": {},
     "output_type": "display_data"
    }
   ],
   "source": [
    "hyped = (next_high / current_close).apply(np.log)\n",
    "hyped.hist(bins=100)"
   ]
  },
  {
   "cell_type": "markdown",
   "metadata": {},
   "source": [
    "Now we have a basic understand of the distribution of both low and high prices, let's take a look if the movement of the price during the buy day has an effect on the distribution."
   ]
  },
  {
   "cell_type": "markdown",
   "metadata": {},
   "source": [
    "### Mask to see if day is red (down) or blue (up)"
   ]
  },
  {
   "cell_type": "code",
   "execution_count": 13,
   "metadata": {},
   "outputs": [],
   "source": [
    "is_up = prices.Close > prices.Open\n",
    "is_buy_up = is_up.loc[buy_mask].reset_index(drop=True)"
   ]
  },
  {
   "cell_type": "markdown",
   "metadata": {},
   "source": [
    "Check if the distribution is different for buying pressure if when the stock was up and when the stock was down."
   ]
  },
  {
   "cell_type": "code",
   "execution_count": 16,
   "metadata": {},
   "outputs": [],
   "source": [
    "price_up = current_close.loc[is_buy_up]\n",
    "price_down = current_close.loc[~is_buy_up]"
   ]
  },
  {
   "cell_type": "code",
   "execution_count": 17,
   "metadata": {},
   "outputs": [
    {
     "data": {
      "text/plain": [
       "<AxesSubplot: >"
      ]
     },
     "execution_count": 17,
     "metadata": {},
     "output_type": "execute_result"
    },
    {
     "data": {
      "image/png": "[encoded data removed]",
      "text/plain": [
       "<Figure size 640x480 with 1 Axes>"
      ]
     },
     "metadata": {},
     "output_type": "display_data"
    }
   ],
   "source": [
    "# Next Low prices\n",
    "up_next_low = next_low.loc[is_buy_up]\n",
    "up_drop = (up_next_low / price_up).apply(np.log)\n",
    "up_drop.hist(bins=100)"
   ]
  },
  {
   "cell_type": "code",
   "execution_count": 19,
   "metadata": {},
   "outputs": [
    {
     "data": {
      "text/plain": [
       "<AxesSubplot: >"
      ]
     },
     "execution_count": 19,
     "metadata": {},
     "output_type": "execute_result"
    },
    {
     "data": {
      "image/png": "[encoded data removed]",
      "text/plain": [
       "<Figure size 640x480 with 1 Axes>"
      ]
     },
     "metadata": {},
     "output_type": "display_data"
    }
   ],
   "source": [
    "down_next_low = next_low.loc[~is_buy_up]\n",
    "down_drop = (down_next_low / price_down).apply(np.log)\n",
    "down_drop.hist(bins=100)"
   ]
  },
  {
   "cell_type": "markdown",
   "metadata": {},
   "source": [
    "It seems that when the stock drop in price during the buy day, it would have more chance to have a high open."
   ]
  },
  {
   "cell_type": "markdown",
   "metadata": {},
   "source": [
    "Now let's take a look at the highs."
   ]
  },
  {
   "cell_type": "code",
   "execution_count": 21,
   "metadata": {},
   "outputs": [
    {
     "data": {
      "text/plain": [
       "<AxesSubplot: >"
      ]
     },
     "execution_count": 21,
     "metadata": {},
     "output_type": "execute_result"
    },
    {
     "data": {
      "image/png": "[encoded data removed]",
      "text/plain": [
       "<Figure size 640x480 with 1 Axes>"
      ]
     },
     "metadata": {},
     "output_type": "display_data"
    }
   ],
   "source": [
    "up_nex_high = next_high.loc[is_buy_up]\n",
    "up_hyped = (up_nex_high / price_up).apply(np.log)\n",
    "up_hyped.hist(bins=100)"
   ]
  },
  {
   "cell_type": "code",
   "execution_count": 22,
   "metadata": {
    "vscode": {
     "languageId": "javascript"
    }
   },
   "outputs": [
    {
     "data": {
      "text/plain": [
       "<AxesSubplot: >"
      ]
     },
     "execution_count": 22,
     "metadata": {},
     "output_type": "execute_result"
    },
    {
     "data": {
      "image/png": "[encoded data removed]",
      "text/plain": [
       "<Figure size 640x480 with 1 Axes>"
      ]
     },
     "metadata": {},
     "output_type": "display_data"
    }
   ],
   "source": [
    "down_nex_high = next_high.loc[~is_buy_up]\n",
    "down_hyped = (down_nex_high / price_down).apply(np.log)\n",
    "down_hyped.hist(bins=100)"
   ]
  },
  {
   "cell_type": "markdown",
   "metadata": {},
   "source": [
    "As you can, the stock is more likely to bounce higher when the stock had a drop during the buying day."
   ]
  },
  {
   "cell_type": "markdown",
   "metadata": {},
   "source": [
    "# Intraday Analysis"
   ]
  },
  {
   "cell_type": "markdown",
   "metadata": {},
   "source": [
    "Now we have a better understanding on the daily changes, let's take a look at the price movement during the day (intraday)."
   ]
  },
  {
   "cell_type": "markdown",
   "metadata": {},
   "source": [
    "### Download the intraday data"
   ]
  },
  {
   "cell_type": "code",
   "execution_count": 44,
   "metadata": {},
   "outputs": [],
   "source": [
    "# @title Change this to get data for different intervals and time\n",
    "start_date = \"2021-01-01\" # @param {type: \"string\"}\n",
    "end_date = \"2021-12-12\" # @param {type: \"string\"}\n",
    "interval = \"1h\" # @param {type: \"string\"}\n",
    "\n",
    "ticker = yfinance.Ticker(symbol)\n",
    "prices = ticker.history(interval=interval, start=start_date, end=end_date)"
   ]
  },
  {
   "cell_type": "code",
   "execution_count": 45,
   "metadata": {},
   "outputs": [
    {
     "data": {
      "text/html": [
       "<div>\n",
       "<style scoped>\n",
       "    .dataframe tbody tr th:only-of-type {\n",
       "        vertical-align: middle;\n",
       "    }\n",
       "\n",
       "    .dataframe tbody tr th {\n",
       "        vertical-align: top;\n",
       "    }\n",
       "\n",
       "    .dataframe thead th {\n",
       "        text-align: right;\n",
       "    }\n",
       "</style>\n",
       "<table border=\"1\" class=\"dataframe\">\n",
       "  <thead>\n",
       "    <tr style=\"text-align: right;\">\n",
       "      <th></th>\n",
       "      <th>Open</th>\n",
       "      <th>High</th>\n",
       "      <th>Low</th>\n",
       "      <th>Close</th>\n",
       "      <th>Volume</th>\n",
       "      <th>Dividends</th>\n",
       "      <th>Stock Splits</th>\n",
       "    </tr>\n",
       "  </thead>\n",
       "  <tbody>\n",
       "    <tr>\n",
       "      <th>2021-01-04 09:30:00-05:00</th>\n",
       "      <td>133.570007</td>\n",
       "      <td>133.611603</td>\n",
       "      <td>130.380005</td>\n",
       "      <td>131.053604</td>\n",
       "      <td>27653145</td>\n",
       "      <td>0.0</td>\n",
       "      <td>0</td>\n",
       "    </tr>\n",
       "    <tr>\n",
       "      <th>2021-01-04 10:30:00-05:00</th>\n",
       "      <td>131.054993</td>\n",
       "      <td>131.309998</td>\n",
       "      <td>129.399994</td>\n",
       "      <td>129.895004</td>\n",
       "      <td>20134055</td>\n",
       "      <td>0.0</td>\n",
       "      <td>0</td>\n",
       "    </tr>\n",
       "    <tr>\n",
       "      <th>2021-01-04 11:30:00-05:00</th>\n",
       "      <td>129.889893</td>\n",
       "      <td>130.089996</td>\n",
       "      <td>126.760002</td>\n",
       "      <td>128.250000</td>\n",
       "      <td>23694210</td>\n",
       "      <td>0.0</td>\n",
       "      <td>0</td>\n",
       "    </tr>\n",
       "    <tr>\n",
       "      <th>2021-01-04 12:30:00-05:00</th>\n",
       "      <td>128.246902</td>\n",
       "      <td>129.110001</td>\n",
       "      <td>127.630096</td>\n",
       "      <td>129.039795</td>\n",
       "      <td>14745063</td>\n",
       "      <td>0.0</td>\n",
       "      <td>0</td>\n",
       "    </tr>\n",
       "    <tr>\n",
       "      <th>2021-01-04 13:30:00-05:00</th>\n",
       "      <td>129.039993</td>\n",
       "      <td>129.199997</td>\n",
       "      <td>128.595001</td>\n",
       "      <td>128.960007</td>\n",
       "      <td>10861778</td>\n",
       "      <td>0.0</td>\n",
       "      <td>0</td>\n",
       "    </tr>\n",
       "    <tr>\n",
       "      <th>...</th>\n",
       "      <td>...</td>\n",
       "      <td>...</td>\n",
       "      <td>...</td>\n",
       "      <td>...</td>\n",
       "      <td>...</td>\n",
       "      <td>...</td>\n",
       "      <td>...</td>\n",
       "    </tr>\n",
       "    <tr>\n",
       "      <th>2021-12-10 11:30:00-05:00</th>\n",
       "      <td>176.304993</td>\n",
       "      <td>177.179993</td>\n",
       "      <td>175.733704</td>\n",
       "      <td>176.949997</td>\n",
       "      <td>11853609</td>\n",
       "      <td>0.0</td>\n",
       "      <td>0</td>\n",
       "    </tr>\n",
       "    <tr>\n",
       "      <th>2021-12-10 12:30:00-05:00</th>\n",
       "      <td>176.970001</td>\n",
       "      <td>177.664993</td>\n",
       "      <td>176.639999</td>\n",
       "      <td>177.619995</td>\n",
       "      <td>10372634</td>\n",
       "      <td>0.0</td>\n",
       "      <td>0</td>\n",
       "    </tr>\n",
       "    <tr>\n",
       "      <th>2021-12-10 13:30:00-05:00</th>\n",
       "      <td>177.610107</td>\n",
       "      <td>177.880005</td>\n",
       "      <td>177.330002</td>\n",
       "      <td>177.830002</td>\n",
       "      <td>8597330</td>\n",
       "      <td>0.0</td>\n",
       "      <td>0</td>\n",
       "    </tr>\n",
       "    <tr>\n",
       "      <th>2021-12-10 14:30:00-05:00</th>\n",
       "      <td>177.838394</td>\n",
       "      <td>178.199997</td>\n",
       "      <td>177.610001</td>\n",
       "      <td>177.925003</td>\n",
       "      <td>14462141</td>\n",
       "      <td>0.0</td>\n",
       "      <td>0</td>\n",
       "    </tr>\n",
       "    <tr>\n",
       "      <th>2021-12-10 15:30:00-05:00</th>\n",
       "      <td>177.919998</td>\n",
       "      <td>179.630005</td>\n",
       "      <td>177.903793</td>\n",
       "      <td>179.500000</td>\n",
       "      <td>15307986</td>\n",
       "      <td>0.0</td>\n",
       "      <td>0</td>\n",
       "    </tr>\n",
       "  </tbody>\n",
       "</table>\n",
       "<p>1663 rows × 7 columns</p>\n",
       "</div>"
      ],
      "text/plain": [
       "                                 Open        High         Low       Close  \\\n",
       "2021-01-04 09:30:00-05:00  133.570007  133.611603  130.380005  131.053604   \n",
       "2021-01-04 10:30:00-05:00  131.054993  131.309998  129.399994  129.895004   \n",
       "2021-01-04 11:30:00-05:00  129.889893  130.089996  126.760002  128.250000   \n",
       "2021-01-04 12:30:00-05:00  128.246902  129.110001  127.630096  129.039795   \n",
       "2021-01-04 13:30:00-05:00  129.039993  129.199997  128.595001  128.960007   \n",
       "...                               ...         ...         ...         ...   \n",
       "2021-12-10 11:30:00-05:00  176.304993  177.179993  175.733704  176.949997   \n",
       "2021-12-10 12:30:00-05:00  176.970001  177.664993  176.639999  177.619995   \n",
       "2021-12-10 13:30:00-05:00  177.610107  177.880005  177.330002  177.830002   \n",
       "2021-12-10 14:30:00-05:00  177.838394  178.199997  177.610001  177.925003   \n",
       "2021-12-10 15:30:00-05:00  177.919998  179.630005  177.903793  179.500000   \n",
       "\n",
       "                             Volume  Dividends  Stock Splits  \n",
       "2021-01-04 09:30:00-05:00  27653145        0.0             0  \n",
       "2021-01-04 10:30:00-05:00  20134055        0.0             0  \n",
       "2021-01-04 11:30:00-05:00  23694210        0.0             0  \n",
       "2021-01-04 12:30:00-05:00  14745063        0.0             0  \n",
       "2021-01-04 13:30:00-05:00  10861778        0.0             0  \n",
       "...                             ...        ...           ...  \n",
       "2021-12-10 11:30:00-05:00  11853609        0.0             0  \n",
       "2021-12-10 12:30:00-05:00  10372634        0.0             0  \n",
       "2021-12-10 13:30:00-05:00   8597330        0.0             0  \n",
       "2021-12-10 14:30:00-05:00  14462141        0.0             0  \n",
       "2021-12-10 15:30:00-05:00  15307986        0.0             0  \n",
       "\n",
       "[1663 rows x 7 columns]"
      ]
     },
     "execution_count": 45,
     "metadata": {},
     "output_type": "execute_result"
    }
   ],
   "source": [
    "prices"
   ]
  },
  {
   "cell_type": "markdown",
   "metadata": {},
   "source": [
    "Grouping the intraday data into each days, then calculate the distribution between the average percentage movements."
   ]
  },
  {
   "cell_type": "code",
   "execution_count": 50,
   "metadata": {},
   "outputs": [],
   "source": [
    "# Create a date range between the data\n",
    "date_range = pd.date_range(start=start_date, end=end_date, tz=\"America/New_York\")"
   ]
  },
  {
   "cell_type": "code",
   "execution_count": 68,
   "metadata": {},
   "outputs": [],
   "source": [
    "# Calculate the log percentage during the intraday periods using the high and low prices\n",
    "intraday_pct_change = (prices.High / prices.Low).apply(np.log)"
   ]
  },
  {
   "cell_type": "code",
   "execution_count": 90,
   "metadata": {},
   "outputs": [],
   "source": [
    "changes = []\n",
    "max_chg = []\n",
    "min_chg = []\n",
    "\n",
    "# Looping through the date range\n",
    "for date in date_range:\n",
    "    # Change the date to open and close time\n",
    "    a = date.replace(hour=9, minute=30)\n",
    "    b = date.replace(hour=15, minute=30)\n",
    "    # if the open date time not in data, then skip\n",
    "    if b not in intraday_pct_change.index:\n",
    "        continue\n",
    "    # Create mask to the intraday data\n",
    "    mask = pd.Series(intraday_pct_change.index).between(a, b)\n",
    "    mask_date = intraday_pct_change.index[mask]\n",
    "    # doing logic to get the percentage changes or prices' max movement range\n",
    "    changes.append(intraday_pct_change.loc[mask_date].mean())\n",
    "    max_chg.append(intraday_pct_change.loc[mask_date].max())\n",
    "    min_chg.append(intraday_pct_change.loc[mask_date].min())"
   ]
  },
  {
   "cell_type": "code",
   "execution_count": 91,
   "metadata": {},
   "outputs": [
    {
     "data": {
      "text/plain": [
       "array([[<AxesSubplot: title={'center': 'Pct Change'}>]], dtype=object)"
      ]
     },
     "execution_count": 91,
     "metadata": {},
     "output_type": "execute_result"
    },
    {
     "data": {
      "image/png": "[encoded data removed]",
      "text/plain": [
       "<Figure size 640x480 with 1 Axes>"
      ]
     },
     "metadata": {},
     "output_type": "display_data"
    }
   ],
   "source": [
    "pct_change = pd.DataFrame(changes, columns=[\"Pct Change\"])\n",
    "pct_change.hist(bins=100)"
   ]
  },
  {
   "cell_type": "code",
   "execution_count": 92,
   "metadata": {},
   "outputs": [
    {
     "data": {
      "text/plain": [
       "array([[<AxesSubplot: title={'center': 'Max Pct Change'}>]], dtype=object)"
      ]
     },
     "execution_count": 92,
     "metadata": {},
     "output_type": "execute_result"
    },
    {
     "data": {
      "image/png": "[encoded data removed]",
      "text/plain": [
       "<Figure size 640x480 with 1 Axes>"
      ]
     },
     "metadata": {},
     "output_type": "display_data"
    }
   ],
   "source": [
    "max_pct_change = pd.DataFrame(max_chg, columns=['Max Pct Change'])\n",
    "max_pct_change.hist(bins=100)"
   ]
  },
  {
   "cell_type": "code",
   "execution_count": 93,
   "metadata": {},
   "outputs": [
    {
     "data": {
      "text/plain": [
       "array([[<AxesSubplot: title={'center': 'Max Pct Change'}>]], dtype=object)"
      ]
     },
     "execution_count": 93,
     "metadata": {},
     "output_type": "execute_result"
    },
    {
     "data": {
      "image/png": "[encoded data removed]",
      "text/plain": [
       "<Figure size 640x480 with 1 Axes>"
      ]
     },
     "metadata": {},
     "output_type": "display_data"
    }
   ],
   "source": [
    "min_pct_change = pd.DataFrame(min_chg, columns=['Min Pct Change'])\n",
    "min_pct_change.hist(bins=100)"
   ]
  },
  {
   "cell_type": "code",
   "execution_count": null,
   "metadata": {},
   "outputs": [],
   "source": []
  }
 ],
 "metadata": {
  "kernelspec": {
   "display_name": "Python 3.10.6 ('.venv': venv)",
   "language": "python",
   "name": "python3"
  },
  "language_info": {
   "codemirror_mode": {
    "name": "ipython",
    "version": 3
   },
   "file_extension": ".py",
   "mimetype": "text/x-python",
   "name": "python",
   "nbconvert_exporter": "python",
   "pygments_lexer": "ipython3",
   "version": "3.10.6"
  },
  "orig_nbformat": 4,
  "vscode": {
   "interpreter": {
    "hash": "3d41f448efdbe607dd530cac217e301b4233900924332442ca0f28625679ed78"
   }
  }
 },
 "nbformat": 4,
 "nbformat_minor": 2
}
