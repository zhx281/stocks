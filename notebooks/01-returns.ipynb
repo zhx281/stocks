{
 "cells": [
  {
   "cell_type": "code",
   "execution_count": 1,
   "metadata": {},
   "outputs": [],
   "source": [
    "import yfinance\n",
    "import pandas as pd "
   ]
  },
  {
   "cell_type": "markdown",
   "metadata": {},
   "source": [
    "# Download Data\n",
    "Downloading prices data with yfinance."
   ]
  },
  {
   "cell_type": "code",
   "execution_count": 2,
   "metadata": {},
   "outputs": [],
   "source": [
    "stocks = yfinance.Ticker('AAPL')\n",
    "prices = stocks.history(period='day', start='2017-01-01', end='2021-12-31')"
   ]
  },
  {
   "cell_type": "code",
   "execution_count": 3,
   "metadata": {},
   "outputs": [
    {
     "data": {
      "text/html": [
       "<div>\n",
       "<style scoped>\n",
       "    .dataframe tbody tr th:only-of-type {\n",
       "        vertical-align: middle;\n",
       "    }\n",
       "\n",
       "    .dataframe tbody tr th {\n",
       "        vertical-align: top;\n",
       "    }\n",
       "\n",
       "    .dataframe thead th {\n",
       "        text-align: right;\n",
       "    }\n",
       "</style>\n",
       "<table border=\"1\" class=\"dataframe\">\n",
       "  <thead>\n",
       "    <tr style=\"text-align: right;\">\n",
       "      <th></th>\n",
       "      <th>Open</th>\n",
       "      <th>High</th>\n",
       "      <th>Low</th>\n",
       "      <th>Close</th>\n",
       "      <th>Volume</th>\n",
       "      <th>Dividends</th>\n",
       "      <th>Stock Splits</th>\n",
       "    </tr>\n",
       "    <tr>\n",
       "      <th>Date</th>\n",
       "      <th></th>\n",
       "      <th></th>\n",
       "      <th></th>\n",
       "      <th></th>\n",
       "      <th></th>\n",
       "      <th></th>\n",
       "      <th></th>\n",
       "    </tr>\n",
       "  </thead>\n",
       "  <tbody>\n",
       "    <tr>\n",
       "      <th>2017-01-03</th>\n",
       "      <td>27.137811</td>\n",
       "      <td>27.262017</td>\n",
       "      <td>26.894086</td>\n",
       "      <td>27.219833</td>\n",
       "      <td>115127600</td>\n",
       "      <td>0.0</td>\n",
       "      <td>0.0</td>\n",
       "    </tr>\n",
       "    <tr>\n",
       "      <th>2017-01-04</th>\n",
       "      <td>27.149524</td>\n",
       "      <td>27.304197</td>\n",
       "      <td>27.126090</td>\n",
       "      <td>27.189363</td>\n",
       "      <td>84472400</td>\n",
       "      <td>0.0</td>\n",
       "      <td>0.0</td>\n",
       "    </tr>\n",
       "    <tr>\n",
       "      <th>2017-01-05</th>\n",
       "      <td>27.165936</td>\n",
       "      <td>27.386226</td>\n",
       "      <td>27.140157</td>\n",
       "      <td>27.327639</td>\n",
       "      <td>88774400</td>\n",
       "      <td>0.0</td>\n",
       "      <td>0.0</td>\n",
       "    </tr>\n",
       "    <tr>\n",
       "      <th>2017-01-06</th>\n",
       "      <td>27.367472</td>\n",
       "      <td>27.690878</td>\n",
       "      <td>27.294824</td>\n",
       "      <td>27.632290</td>\n",
       "      <td>127007600</td>\n",
       "      <td>0.0</td>\n",
       "      <td>0.0</td>\n",
       "    </tr>\n",
       "    <tr>\n",
       "      <th>2017-01-09</th>\n",
       "      <td>27.641662</td>\n",
       "      <td>27.988502</td>\n",
       "      <td>27.639320</td>\n",
       "      <td>27.885387</td>\n",
       "      <td>134247600</td>\n",
       "      <td>0.0</td>\n",
       "      <td>0.0</td>\n",
       "    </tr>\n",
       "    <tr>\n",
       "      <th>...</th>\n",
       "      <td>...</td>\n",
       "      <td>...</td>\n",
       "      <td>...</td>\n",
       "      <td>...</td>\n",
       "      <td>...</td>\n",
       "      <td>...</td>\n",
       "      <td>...</td>\n",
       "    </tr>\n",
       "    <tr>\n",
       "      <th>2021-12-23</th>\n",
       "      <td>175.125322</td>\n",
       "      <td>176.121201</td>\n",
       "      <td>174.547711</td>\n",
       "      <td>175.553543</td>\n",
       "      <td>68356600</td>\n",
       "      <td>0.0</td>\n",
       "      <td>0.0</td>\n",
       "    </tr>\n",
       "    <tr>\n",
       "      <th>2021-12-27</th>\n",
       "      <td>176.360215</td>\n",
       "      <td>179.676494</td>\n",
       "      <td>176.340308</td>\n",
       "      <td>179.586868</td>\n",
       "      <td>74919600</td>\n",
       "      <td>0.0</td>\n",
       "      <td>0.0</td>\n",
       "    </tr>\n",
       "    <tr>\n",
       "      <th>2021-12-28</th>\n",
       "      <td>179.417557</td>\n",
       "      <td>180.582734</td>\n",
       "      <td>177.794270</td>\n",
       "      <td>178.551132</td>\n",
       "      <td>79144300</td>\n",
       "      <td>0.0</td>\n",
       "      <td>0.0</td>\n",
       "    </tr>\n",
       "    <tr>\n",
       "      <th>2021-12-29</th>\n",
       "      <td>178.590981</td>\n",
       "      <td>179.885626</td>\n",
       "      <td>177.405882</td>\n",
       "      <td>178.640778</td>\n",
       "      <td>62348900</td>\n",
       "      <td>0.0</td>\n",
       "      <td>0.0</td>\n",
       "    </tr>\n",
       "    <tr>\n",
       "      <th>2021-12-30</th>\n",
       "      <td>178.730408</td>\n",
       "      <td>179.825881</td>\n",
       "      <td>177.356090</td>\n",
       "      <td>177.465637</td>\n",
       "      <td>59773000</td>\n",
       "      <td>0.0</td>\n",
       "      <td>0.0</td>\n",
       "    </tr>\n",
       "  </tbody>\n",
       "</table>\n",
       "<p>1258 rows × 7 columns</p>\n",
       "</div>"
      ],
      "text/plain": [
       "                  Open        High         Low       Close     Volume  \\\n",
       "Date                                                                    \n",
       "2017-01-03   27.137811   27.262017   26.894086   27.219833  115127600   \n",
       "2017-01-04   27.149524   27.304197   27.126090   27.189363   84472400   \n",
       "2017-01-05   27.165936   27.386226   27.140157   27.327639   88774400   \n",
       "2017-01-06   27.367472   27.690878   27.294824   27.632290  127007600   \n",
       "2017-01-09   27.641662   27.988502   27.639320   27.885387  134247600   \n",
       "...                ...         ...         ...         ...        ...   \n",
       "2021-12-23  175.125322  176.121201  174.547711  175.553543   68356600   \n",
       "2021-12-27  176.360215  179.676494  176.340308  179.586868   74919600   \n",
       "2021-12-28  179.417557  180.582734  177.794270  178.551132   79144300   \n",
       "2021-12-29  178.590981  179.885626  177.405882  178.640778   62348900   \n",
       "2021-12-30  178.730408  179.825881  177.356090  177.465637   59773000   \n",
       "\n",
       "            Dividends  Stock Splits  \n",
       "Date                                 \n",
       "2017-01-03        0.0           0.0  \n",
       "2017-01-04        0.0           0.0  \n",
       "2017-01-05        0.0           0.0  \n",
       "2017-01-06        0.0           0.0  \n",
       "2017-01-09        0.0           0.0  \n",
       "...               ...           ...  \n",
       "2021-12-23        0.0           0.0  \n",
       "2021-12-27        0.0           0.0  \n",
       "2021-12-28        0.0           0.0  \n",
       "2021-12-29        0.0           0.0  \n",
       "2021-12-30        0.0           0.0  \n",
       "\n",
       "[1258 rows x 7 columns]"
      ]
     },
     "execution_count": 3,
     "metadata": {},
     "output_type": "execute_result"
    }
   ],
   "source": [
    "prices"
   ]
  },
  {
   "cell_type": "markdown",
   "metadata": {},
   "source": [
    "# Calculate Returns"
   ]
  },
  {
   "cell_type": "markdown",
   "metadata": {},
   "source": [
    "### Daily Return\n",
    "Calculate the daily return of the stock by current Close price / previous Close price - 1. We can simply use the pandas pct_change method to each of the daily return."
   ]
  },
  {
   "cell_type": "code",
   "execution_count": 17,
   "metadata": {},
   "outputs": [],
   "source": [
    "close = prices.Close\n",
    "pct_change = close.pct_change().dropna()"
   ]
  },
  {
   "cell_type": "code",
   "execution_count": 18,
   "metadata": {},
   "outputs": [
    {
     "data": {
      "text/plain": [
       "Date\n",
       "2017-01-04   -0.001119\n",
       "2017-01-05    0.005086\n",
       "2017-01-06    0.011148\n",
       "2017-01-09    0.009159\n",
       "2017-01-10    0.001008\n",
       "                ...   \n",
       "2021-12-23    0.003644\n",
       "2021-12-27    0.022975\n",
       "2021-12-28   -0.005767\n",
       "2021-12-29    0.000502\n",
       "2021-12-30   -0.006578\n",
       "Name: Close, Length: 1257, dtype: float64"
      ]
     },
     "execution_count": 18,
     "metadata": {},
     "output_type": "execute_result"
    }
   ],
   "source": [
    "pct_change"
   ]
  },
  {
   "cell_type": "markdown",
   "metadata": {},
   "source": [
    "To calculate the accumulative return of the stock when buying and selling the stock at close every trading day, (current return percentage + 1) * (previous return percentage + 1), and we can simply add 1 to the pct_change then use pandas prod method to get the total return for the whole data period. "
   ]
  },
  {
   "cell_type": "code",
   "execution_count": 19,
   "metadata": {},
   "outputs": [],
   "source": [
    "accumulative_return = (pct_change + 1).prod()"
   ]
  },
  {
   "cell_type": "markdown",
   "metadata": {},
   "source": [
    "To calculate the price change or static return, which when buying and holding the stock, of the data period, last Close price / first Close price - 1"
   ]
  },
  {
   "cell_type": "code",
   "execution_count": 20,
   "metadata": {},
   "outputs": [],
   "source": [
    "static_return = close.iloc[-1] / close.iloc[0] - 1"
   ]
  },
  {
   "cell_type": "code",
   "execution_count": 21,
   "metadata": {},
   "outputs": [
    {
     "name": "stdout",
     "output_type": "stream",
     "text": [
      "The stock have a static return of 551.97% and a cumulative return of 651.97%.\n"
     ]
    }
   ],
   "source": [
    "print(f'The stock have a static return of {static_return*100:.2f}% and a cumulative return of {accumulative_return*100:.2f}%.')"
   ]
  },
  {
   "cell_type": "markdown",
   "metadata": {},
   "source": [
    "To calculate the volatility, we can simply use pandas std method."
   ]
  },
  {
   "cell_type": "code",
   "execution_count": 22,
   "metadata": {},
   "outputs": [
    {
     "name": "stdout",
     "output_type": "stream",
     "text": [
      "The volatility of the stock is 1.92%.\n"
     ]
    }
   ],
   "source": [
    "volatility = pct_change.std()\n",
    "print(f'The volatility of the stock is {volatility*100:.2f}%.')"
   ]
  },
  {
   "cell_type": "markdown",
   "metadata": {},
   "source": [
    "Displaying the distribution of the range of the stock."
   ]
  },
  {
   "cell_type": "code",
   "execution_count": 23,
   "metadata": {},
   "outputs": [
    {
     "data": {
      "text/plain": [
       "<AxesSubplot: >"
      ]
     },
     "execution_count": 23,
     "metadata": {},
     "output_type": "execute_result"
    },
    {
     "data": {
      "image/png": "[encoded data removed]",
      "text/plain": [
       "<Figure size 640x480 with 1 Axes>"
      ]
     },
     "metadata": {},
     "output_type": "display_data"
    }
   ],
   "source": [
    "pct_change.hist(bins=100)"
   ]
  },
  {
   "cell_type": "markdown",
   "metadata": {},
   "source": [
    "### Close to High Return\n",
    "When the change the strategy instead of selling the stock at the next day Close price to selling the stock at it's next day High price."
   ]
  },
  {
   "cell_type": "code",
   "execution_count": 24,
   "metadata": {},
   "outputs": [],
   "source": [
    "close_to_high = (prices['High'].shift(-1) / prices['Close'] - 1).dropna()"
   ]
  },
  {
   "cell_type": "code",
   "execution_count": 25,
   "metadata": {},
   "outputs": [
    {
     "data": {
      "text/plain": [
       "Date\n",
       "2017-01-03    0.003099\n",
       "2017-01-04    0.007240\n",
       "2017-01-05    0.013292\n",
       "2017-01-06    0.012891\n",
       "2017-01-09    0.003277\n",
       "                ...   \n",
       "2021-12-22    0.006889\n",
       "2021-12-23    0.023485\n",
       "2021-12-27    0.005545\n",
       "2021-12-28    0.007474\n",
       "2021-12-29    0.006634\n",
       "Length: 1257, dtype: float64"
      ]
     },
     "execution_count": 25,
     "metadata": {},
     "output_type": "execute_result"
    }
   ],
   "source": [
    "close_to_high"
   ]
  },
  {
   "cell_type": "markdown",
   "metadata": {},
   "source": [
    "The accumulative return "
   ]
  },
  {
   "cell_type": "code",
   "execution_count": 26,
   "metadata": {},
   "outputs": [],
   "source": [
    "h_accumulative_return = (close_to_high + 1).prod()"
   ]
  },
  {
   "cell_type": "code",
   "execution_count": 27,
   "metadata": {},
   "outputs": [
    {
     "name": "stdout",
     "output_type": "stream",
     "text": [
      "The stock has a normal cumulative return of 651.97% and a close to high cumulative return of 94181760.27%.\n"
     ]
    }
   ],
   "source": [
    "print(f'The stock has a normal cumulative return of {accumulative_return*100:.2f}% and a close to high cumulative return of {h_accumulative_return*100:.2f}%.')"
   ]
  },
  {
   "cell_type": "markdown",
   "metadata": {},
   "source": [
    "Volatility and Distribution Graph"
   ]
  },
  {
   "cell_type": "code",
   "execution_count": 28,
   "metadata": {},
   "outputs": [
    {
     "name": "stdout",
     "output_type": "stream",
     "text": [
      "The close to high strategy has a volatility of 1.51%.\n"
     ]
    }
   ],
   "source": [
    "h_volatility = close_to_high.std()\n",
    "print(f'The close to high strategy has a volatility of {h_volatility*100:.2f}%.')"
   ]
  },
  {
   "cell_type": "code",
   "execution_count": 29,
   "metadata": {},
   "outputs": [
    {
     "data": {
      "text/plain": [
       "<AxesSubplot: >"
      ]
     },
     "execution_count": 29,
     "metadata": {},
     "output_type": "execute_result"
    },
    {
     "data": {
      "image/png": "[encoded data removed]",
      "text/plain": [
       "<Figure size 640x480 with 1 Axes>"
      ]
     },
     "metadata": {},
     "output_type": "display_data"
    }
   ],
   "source": [
    "close_to_high.hist(bins=100)"
   ]
  },
  {
   "cell_type": "markdown",
   "metadata": {},
   "source": [
    "The problem with this strategy is that we can not be sure to when is the high price of the stock going to be in the next day."
   ]
  },
  {
   "cell_type": "markdown",
   "metadata": {},
   "source": [
    "### Check Close to Low"
   ]
  },
  {
   "cell_type": "code",
   "execution_count": 35,
   "metadata": {},
   "outputs": [],
   "source": [
    "close_to_low = (prices['Low'].shift(-1) / prices['Close'] - 1).dropna()"
   ]
  },
  {
   "cell_type": "code",
   "execution_count": 36,
   "metadata": {},
   "outputs": [
    {
     "data": {
      "text/plain": [
       "Date\n",
       "2017-01-03   -0.003444\n",
       "2017-01-04   -0.001810\n",
       "2017-01-05   -0.001201\n",
       "2017-01-06    0.000254\n",
       "2017-01-09   -0.005799\n",
       "                ...   \n",
       "2021-12-22   -0.002107\n",
       "2021-12-23    0.004482\n",
       "2021-12-27   -0.009982\n",
       "2021-12-28   -0.006414\n",
       "2021-12-29   -0.007191\n",
       "Length: 1257, dtype: float64"
      ]
     },
     "execution_count": 36,
     "metadata": {},
     "output_type": "execute_result"
    }
   ],
   "source": [
    "close_to_low"
   ]
  },
  {
   "cell_type": "markdown",
   "metadata": {},
   "source": [
    "Volatility and Distribution Graph"
   ]
  },
  {
   "cell_type": "code",
   "execution_count": 37,
   "metadata": {},
   "outputs": [
    {
     "name": "stdout",
     "output_type": "stream",
     "text": [
      "volatility: 1.58%.\n"
     ]
    }
   ],
   "source": [
    "l_volatility = close_to_low.std()\n",
    "print(f'volatility: {l_volatility*100:.2f}%.')"
   ]
  },
  {
   "cell_type": "code",
   "execution_count": 38,
   "metadata": {},
   "outputs": [
    {
     "data": {
      "text/plain": [
       "<AxesSubplot: >"
      ]
     },
     "execution_count": 38,
     "metadata": {},
     "output_type": "execute_result"
    },
    {
     "data": {
      "image/png": "[encoded data removed]",
      "text/plain": [
       "<Figure size 640x480 with 1 Axes>"
      ]
     },
     "metadata": {},
     "output_type": "display_data"
    }
   ],
   "source": [
    "close_to_low.hist(bins=100)"
   ]
  },
  {
   "cell_type": "markdown",
   "metadata": {},
   "source": [
    "If you look at the graph, you can see the range of when the stock is droping."
   ]
  },
  {
   "cell_type": "code",
   "execution_count": null,
   "metadata": {},
   "outputs": [],
   "source": []
  }
 ],
 "metadata": {
  "kernelspec": {
   "display_name": "Python 3.10.6 ('.venv': venv)",
   "language": "python",
   "name": "python3"
  },
  "language_info": {
   "codemirror_mode": {
    "name": "ipython",
    "version": 3
   },
   "file_extension": ".py",
   "mimetype": "text/x-python",
   "name": "python",
   "nbconvert_exporter": "python",
   "pygments_lexer": "ipython3",
   "version": "3.10.6"
  },
  "orig_nbformat": 4,
  "vscode": {
   "interpreter": {
    "hash": "3d41f448efdbe607dd530cac217e301b4233900924332442ca0f28625679ed78"
   }
  }
 },
 "nbformat": 4,
 "nbformat_minor": 2
}
