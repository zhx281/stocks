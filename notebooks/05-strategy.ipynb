{
 "cells": [
  {
   "cell_type": "code",
   "execution_count": 1,
   "metadata": {},
   "outputs": [],
   "source": [
    "import numpy as np\n",
    "import pandas as pd\n",
    "import yfinance as yf"
   ]
  },
  {
   "attachments": {},
   "cell_type": "markdown",
   "metadata": {},
   "source": [
    "## Download Data"
   ]
  },
  {
   "cell_type": "code",
   "execution_count": 2,
   "metadata": {},
   "outputs": [],
   "source": [
    "import os\n",
    "\n",
    "cwd = os.getcwd()\n",
    "# Check if price data have been saved\n",
    "price_data = os.path.join(cwd, \"price_data\")\n",
    "if not os.path.exists(price_data):\n",
    "    # Getting the Nasdaq 100 ticker symbols from Wikipedia\n",
    "    nas_df = pd.read_html(\"https://en.wikipedia.org/wiki/Nasdaq-100\")[4]\n",
    "    tickers = nas_df.Ticker.to_list()\n",
    "    # Download the Nasdaq 100 Adjusted Close price data with yfinance\n",
    "    df = yf.download(tickers, start=\"2010-01-01\")\n",
    "    # Create price_data directory\n",
    "    os.makedirs(price_data)\n",
    "    # Save a copy of the dataframe to price_data directory\n",
    "    df.to_csv(os.path.join(price_data, \"Nasdaq-100.csv\"))\n",
    "else:\n",
    "    # Load the Nasdaq-100.csv\n",
    "    df = pd.read_csv(os.path.join(price_data, \"Nasdaq-100.csv\"), \n",
    "                     header=[0,1], index_col=0)\n",
    "    df.index = pd.to_datetime(df.index)"
   ]
  },
  {
   "cell_type": "code",
   "execution_count": 3,
   "metadata": {},
   "outputs": [],
   "source": [
    "df = df.swaplevel(axis=1)"
   ]
  },
  {
   "attachments": {},
   "cell_type": "markdown",
   "metadata": {},
   "source": [
    "## Percent Change Calculation"
   ]
  },
  {
   "cell_type": "code",
   "execution_count": 5,
   "metadata": {},
   "outputs": [],
   "source": [
    "def ATR(data, p=14):\n",
    "    hl = data['High'] - data['Low']\n",
    "    hc = (data['High'] - data['Close'].shift(1)).abs()\n",
    "    lc = (data['Low'] - data['Close'].shift(1)).abs()\n",
    "    tr = pd.concat([hl, hc, lc], axis=1).max(1)\n",
    "    return tr.rolling(p).mean()"
   ]
  },
  {
   "cell_type": "code",
   "execution_count": 230,
   "metadata": {},
   "outputs": [],
   "source": [
    "data = df['AMD'].dropna()"
   ]
  },
  {
   "cell_type": "code",
   "execution_count": 231,
   "metadata": {},
   "outputs": [
    {
     "name": "stdout",
     "output_type": "stream",
     "text": [
      "Return while buy and hold: 6.12 times\n",
      "Return while sold at max high: 15.69 times\n"
     ]
    }
   ],
   "source": [
    "adj_close = data['Adj Close']\n",
    "buy_and_hold = adj_close.iloc[-1] / adj_close.iloc[0] - 1\n",
    "max_profit = adj_close.max() / adj_close.iloc[0] - 1\n",
    "\n",
    "print(f'Return while buy and hold: {buy_and_hold:.2f} times')\n",
    "print(f'Return while sold at max high: {max_profit:.2f} times')"
   ]
  },
  {
   "cell_type": "code",
   "execution_count": 232,
   "metadata": {},
   "outputs": [],
   "source": [
    "data['atr'] = ATR(data)\n",
    "sma = data['Close'].rolling(200).mean()\n",
    "mask = data['Close'] < sma\n",
    "data['can_buy'] = mask.shift(1)"
   ]
  },
  {
   "cell_type": "code",
   "execution_count": 233,
   "metadata": {},
   "outputs": [],
   "source": [
    "data = data.dropna()"
   ]
  },
  {
   "cell_type": "code",
   "execution_count": 239,
   "metadata": {},
   "outputs": [
    {
     "name": "stdout",
     "output_type": "stream",
     "text": [
      "return: 955.40 x\n",
      "num trades: 65\n",
      "win rate: 78.46%\n",
      "trade rate: 1.99%\n"
     ]
    }
   ],
   "source": [
    "holding = False\n",
    "buy_at = 0\n",
    "gain = []\n",
    "tp = 0\n",
    "sl = 0\n",
    "\n",
    "for i in range(len(data.iloc[-500:])):\n",
    "    da = data.iloc[i]\n",
    "    if not holding and da['can_buy']:\n",
    "        buy_at = da['Close']\n",
    "        tp = buy_at + (da['atr'] * 4)\n",
    "        sl = buy_at - (da['atr'] * 1)\n",
    "        holding = True\n",
    "    else:\n",
    "        sell_at = 0\n",
    "        if da['Open'] < sl:\n",
    "            sell_at = da['Open']\n",
    "        elif da['High'] > tp:\n",
    "            sell_at = tp\n",
    "        elif da['Low'] < sl:\n",
    "            sell_at = sl\n",
    "        \n",
    "        if sell_at != 0:\n",
    "            gain.append(sell_at / buy_at)\n",
    "            holding = False\n",
    "            continue\n",
    "\n",
    "ret = np.array(gain)\n",
    "if len(ret) > 0:\n",
    "    print(f\"return: {ret.prod() - 1:.2f} x\")\n",
    "    print(f\"num trades: {len(ret)}\")\n",
    "    print(f\"win rate: {(ret > 1).mean()*100:.2f}%\")\n",
    "    print(f\"trade rate: {len(ret)/len(data)*100:.2f}%\")\n",
    "else:\n",
    "    print(\"No trades\")"
   ]
  },
  {
   "cell_type": "code",
   "execution_count": null,
   "metadata": {},
   "outputs": [],
   "source": []
  }
 ],
 "metadata": {
  "kernelspec": {
   "display_name": ".venv",
   "language": "python",
   "name": "python3"
  },
  "language_info": {
   "codemirror_mode": {
    "name": "ipython",
    "version": 3
   },
   "file_extension": ".py",
   "mimetype": "text/x-python",
   "name": "python",
   "nbconvert_exporter": "python",
   "pygments_lexer": "ipython3",
   "version": "3.10.6"
  },
  "orig_nbformat": 4,
  "vscode": {
   "interpreter": {
    "hash": "bb4badeff1c1a84dbbc32eb48fd237af44564825d0351354b5e73f8d50259fca"
   }
  }
 },
 "nbformat": 4,
 "nbformat_minor": 2
}
