{
 "cells": [
  {
   "cell_type": "code",
   "execution_count": 1,
   "metadata": {},
   "outputs": [],
   "source": [
    "import numpy as np\n",
    "import pandas as pd\n",
    "import yfinance as yf"
   ]
  },
  {
   "cell_type": "code",
   "execution_count": 2,
   "metadata": {},
   "outputs": [],
   "source": [
    "def regroup(data, freq='W'):\n",
    "    o = data['Open'].groupby(by=pd.Grouper(freq=freq)).first()\n",
    "    c = data['Close'].groupby(by=pd.Grouper(freq=freq)).last()\n",
    "    h = data['High'].groupby(by=pd.Grouper(freq=freq)).max()\n",
    "    l = data['Low'].groupby(by=pd.Grouper(freq=freq)).min()\n",
    "    v = data['Volume'].groupby(by=pd.Grouper(freq=freq)).sum()\n",
    "    ac = data['Adj Close'].groupby(by=pd.Grouper(freq=freq)).last()\n",
    "    n = pd.concat([o, h, l, c, ac, v], axis=1)\n",
    "    n.columns = ['Open', 'High', 'Low', 'Close', 'Adj Close', 'Volume']\n",
    "    return n"
   ]
  },
  {
   "attachments": {},
   "cell_type": "markdown",
   "metadata": {},
   "source": [
    "## Download Data"
   ]
  },
  {
   "cell_type": "code",
   "execution_count": 3,
   "metadata": {},
   "outputs": [],
   "source": [
    "import os\n",
    "\n",
    "cwd = os.getcwd()\n",
    "# Check if price data have been saved\n",
    "price_data = os.path.join(cwd, \"price_data\")\n",
    "if not os.path.exists(price_data):\n",
    "    # Getting the Nasdaq 100 ticker symbols from Wikipedia\n",
    "    nas_df = pd.read_html(\"https://en.wikipedia.org/wiki/Nasdaq-100\")[4]\n",
    "    tickers = nas_df.Ticker.to_list()\n",
    "    # Download the Nasdaq 100 Adjusted Close price data with yfinance\n",
    "    df = yf.download(tickers, start=\"2010-01-01\")\n",
    "    # Create price_data directory\n",
    "    os.makedirs(price_data)\n",
    "    # Save a copy of the dataframe to price_data directory\n",
    "    df.to_csv(os.path.join(price_data, \"Nasdaq-100.csv\"))\n",
    "else:\n",
    "    # Load the Nasdaq-100.csv\n",
    "    df = pd.read_csv(os.path.join(price_data, \"Nasdaq-100.csv\"), \n",
    "                     header=[0,1], index_col=0)\n",
    "    df.index = pd.to_datetime(df.index)"
   ]
  },
  {
   "attachments": {},
   "cell_type": "markdown",
   "metadata": {},
   "source": [
    "## Picking"
   ]
  },
  {
   "cell_type": "code",
   "execution_count": 4,
   "metadata": {},
   "outputs": [],
   "source": [
    "def get_date(date, s, e, include_end=False):\n",
    "    if include_end:\n",
    "        return date[(date >= s) & (date <= e)]\n",
    "    return date[(date >= s) & (date < e)]"
   ]
  },
  {
   "cell_type": "code",
   "execution_count": 5,
   "metadata": {},
   "outputs": [],
   "source": [
    "def get_top_picks(df, pct, end:int, p:int, num_picks=3):\n",
    "    dr = pd.date_range(end=end, periods=p+1, freq='MS')[0]\n",
    "    sym = df.loc[get_date(df.index, dr, end), 'Close'].dropna(axis=1).columns.to_list()\n",
    "    ret = pct.loc[get_date(pct.index, dr, end), sym].prod()\n",
    "    sym = ret.nlargest(num_picks).index.to_list()\n",
    "    return sym"
   ]
  },
  {
   "attachments": {},
   "cell_type": "markdown",
   "metadata": {},
   "source": [
    "## Monthly returns"
   ]
  },
  {
   "cell_type": "code",
   "execution_count": 6,
   "metadata": {},
   "outputs": [],
   "source": [
    "sdf = df.swaplevel(axis=1)"
   ]
  },
  {
   "cell_type": "code",
   "execution_count": 7,
   "metadata": {},
   "outputs": [],
   "source": [
    "data = sdf['TSLA'].dropna()"
   ]
  },
  {
   "cell_type": "code",
   "execution_count": 8,
   "metadata": {},
   "outputs": [
    {
     "name": "stdout",
     "output_type": "stream",
     "text": [
      "Return while buy and hold: 76.37 x\n",
      "Return while sold at max high: 256.41 x\n"
     ]
    }
   ],
   "source": [
    "adj_close = data['Close']\n",
    "buy_and_hold = adj_close.iloc[-1] / adj_close.iloc[0] - 1\n",
    "max_profit = adj_close.max() / adj_close.iloc[0] - 1\n",
    "\n",
    "print(f'Return while buy and hold: {buy_and_hold:.2f} x')\n",
    "print(f'Return while sold at max high: {max_profit:.2f} x')"
   ]
  },
  {
   "cell_type": "code",
   "execution_count": 9,
   "metadata": {},
   "outputs": [
    {
     "name": "stdout",
     "output_type": "stream",
     "text": [
      "return: 0.29 x\n",
      "num trades: 10\n",
      "win rate: 100.00%\n"
     ]
    }
   ],
   "source": [
    "capital = 1000\n",
    "base_cap = capital\n",
    "num_share = 0 \n",
    "max_share = 1000\n",
    "holding = False\n",
    "buy_at = 0\n",
    "gain = []\n",
    "tp = 0\n",
    "sl = 0\n",
    "nhigh = 0\n",
    "pct_l = 1.01\n",
    "pct_s = .99\n",
    "\n",
    "for i in range(len(data.iloc[-20:])):\n",
    "    da = data.iloc[i]\n",
    "    if not holding:\n",
    "        buy_at = da['Close']\n",
    "        # calculate portfolio\n",
    "        _share = capital // buy_at\n",
    "        num_share = _share if _share < max_share else max_share\n",
    "        capital -= buy_at * num_share\n",
    "        # calculate risk and profit \n",
    "        tp = buy_at * pct_l\n",
    "        sl = buy_at * pct_s\n",
    "        holding = True\n",
    "    else:\n",
    "        # logic for risk and profit management\n",
    "        sell_at = 0\n",
    "        if da['Open'] < sl or da['Open'] > tp:\n",
    "            sell_at = da['Open']\n",
    "        elif da['High'] > tp:\n",
    "            sell_at = tp\n",
    "        elif da['Low'] < sl:\n",
    "            sell_at = sl\n",
    "        \n",
    "        if sell_at != 0:\n",
    "            gain.append(sell_at / buy_at)\n",
    "            # calculate portfolio\n",
    "            capital += sell_at * num_share\n",
    "            # reset\n",
    "            tp, sl = 0, 0\n",
    "            nhigh = 0\n",
    "            holding = False\n",
    "            continue\n",
    "        \n",
    "        if da['High'] > nhigh:\n",
    "            nhigh = da['High']\n",
    "            tp = da['Close'] * pct_l\n",
    "            sl = da['Close'] * pct_s\n",
    "um_picks=[50, 25, 3]\n",
    "if holding:\n",
    "    capital += buy_at * num_share\n",
    "\n",
    "ret = np.array(gain)\n",
    "if len(ret) > 0:\n",
    "    print(f\"return: {ret.prod() - 1:.2f} x\")\n",
    "    print(f\"num trades: {len(ret)}\")\n",
    "    print(f\"win rate: {(ret > 1).mean()*100:.2f}%\")\n",
    "else:\n",
    "    print(\"No trades\")"
   ]
  },
  {
   "cell_type": "code",
   "execution_count": 10,
   "metadata": {},
   "outputs": [],
   "source": [
    "def simulate(data, pct_l=1.01, pct_s=.99, tracing=False):\n",
    "    holding = False\n",
    "    buy_at = 0\n",
    "    gain = []\n",
    "    tp = 0\n",
    "    sl = 0\n",
    "    nhigh = 0\n",
    "    \n",
    "    for i in range(len(data.iloc[-20:])):\n",
    "        da = data.iloc[i]\n",
    "        if not holding:\n",
    "            buy_at = da['Close']\n",
    "            # calculate risk and profit \n",
    "            tp = buy_at * pct_l\n",
    "            sl = buy_at * pct_s\n",
    "            holding = True\n",
    "        else:\n",
    "            # logic for risk and profit management\n",
    "            sell_at = 0\n",
    "            if da['Open'] < sl or da['Open'] > tp:\n",
    "                sell_at = da['Open']\n",
    "            elif da['High'] > tp:\n",
    "                sell_at = tp\n",
    "            elif da['Low'] < sl:\n",
    "                sell_at = sl\n",
    "            \n",
    "            if sell_at != 0:\n",
    "                gain.append(sell_at / buy_at)\n",
    "                # reset\n",
    "                tp, sl = 0, 0\n",
    "                nhigh = 0\n",
    "                holding = False\n",
    "                continue\n",
    "            \n",
    "            if da['High'] > nhigh and tracing:\n",
    "                nhigh = da['High']\n",
    "                tp = da['Close'] * pct_l\n",
    "                sl = da['Close'] * pct_s\n",
    "    \n",
    "    return np.prod(gain)"
   ]
  },
  {
   "attachments": {},
   "cell_type": "markdown",
   "metadata": {},
   "source": [
    "## Simulation"
   ]
  },
  {
   "cell_type": "code",
   "execution_count": 11,
   "metadata": {},
   "outputs": [],
   "source": [
    "ms = df.groupby(by=pd.Grouper(freq='MS')).first().index\n",
    "me = df.groupby(by=pd.Grouper(freq='M')).first().index"
   ]
  },
  {
   "cell_type": "code",
   "execution_count": 26,
   "metadata": {},
   "outputs": [],
   "source": [
    "pct = (df['High'] / df['Close'].shift(1)).iloc[1:]"
   ]
  },
  {
   "cell_type": "code",
   "execution_count": 39,
   "metadata": {},
   "outputs": [],
   "source": [
    "p = 3\n",
    "n = 2\n",
    "p_l = 1.02\n",
    "p_s = .99\n",
    "h = 6\n",
    "apply_tracing = False"
   ]
  },
  {
   "attachments": {},
   "cell_type": "markdown",
   "metadata": {},
   "source": [
    "#### Backtest"
   ]
  },
  {
   "cell_type": "code",
   "execution_count": 40,
   "metadata": {},
   "outputs": [
    {
     "name": "stdout",
     "output_type": "stream",
     "text": [
      "Return:  1158.33 x\n"
     ]
    },
    {
     "data": {
      "text/plain": [
       "<AxesSubplot: >"
      ]
     },
     "execution_count": 40,
     "metadata": {},
     "output_type": "execute_result"
    },
    {
     "data": {
      "image/png": "[encoded data removed]",
      "text/plain": [
       "<Figure size 640x480 with 1 Axes>"
      ]
     },
     "metadata": {},
     "output_type": "display_data"
    }
   ],
   "source": [
    "result = {}\n",
    "\n",
    "for s, e in zip(ms[p:-h], me[p:-h]):\n",
    "    # Top Picking\n",
    "    top_picks = get_top_picks(df, pct, s, p, n)\n",
    "    # Getting the current month's price data\n",
    "    cur = sdf.loc[get_date(sdf.index, s, e, True), top_picks]\n",
    "    ret = np.mean([simulate(cur[sym], \n",
    "                            p_l, \n",
    "                            p_s,\n",
    "                            apply_tracing) for sym in top_picks])\n",
    "    \n",
    "    result[e] = {'return': ret,\n",
    "                 'picks': top_picks}\n",
    "    \n",
    "### RESULT ###\n",
    "result_df = pd.DataFrame.from_dict(result, orient='index')\n",
    "print(f\"Return: {result_df['return'].prod() - 1: .2f} x\")\n",
    "result_df['return'].cumprod().plot()"
   ]
  },
  {
   "attachments": {},
   "cell_type": "markdown",
   "metadata": {},
   "source": [
    "#### Forward test"
   ]
  },
  {
   "cell_type": "code",
   "execution_count": 41,
   "metadata": {},
   "outputs": [
    {
     "name": "stdout",
     "output_type": "stream",
     "text": [
      "Return:  0.29 x\n"
     ]
    },
    {
     "data": {
      "text/plain": [
       "<AxesSubplot: >"
      ]
     },
     "execution_count": 41,
     "metadata": {},
     "output_type": "execute_result"
    },
    {
     "data": {
      "image/png": "[encoded data removed]",
      "text/plain": [
       "<Figure size 640x480 with 1 Axes>"
      ]
     },
     "metadata": {},
     "output_type": "display_data"
    }
   ],
   "source": [
    "result = {}\n",
    "\n",
    "for s, e in zip(ms[-h:], me[-h:]):\n",
    "    # Top Picking\n",
    "    top_picks = get_top_picks(df, pct, s, p, n)\n",
    "    # Getting the current month's price data\n",
    "    cur = sdf.loc[get_date(sdf.index, s, e, True), top_picks]\n",
    "    ret = np.mean([simulate(cur[sym], \n",
    "                            p_l, \n",
    "                            p_s,\n",
    "                            apply_tracing) for sym in top_picks])\n",
    "    \n",
    "    result[e] = {'return': ret,\n",
    "                 'picks': top_picks}\n",
    "    \n",
    "### RESULT ###\n",
    "result_df = pd.DataFrame.from_dict(result, orient='index')\n",
    "print(f\"Return: {result_df['return'].prod() - 1: .2f} x\")\n",
    "result_df['return'].cumprod().plot()"
   ]
  },
  {
   "cell_type": "code",
   "execution_count": null,
   "metadata": {},
   "outputs": [],
   "source": []
  }
 ],
 "metadata": {
  "kernelspec": {
   "display_name": ".venv",
   "language": "python",
   "name": "python3"
  },
  "language_info": {
   "codemirror_mode": {
    "name": "ipython",
    "version": 3
   },
   "file_extension": ".py",
   "mimetype": "text/x-python",
   "name": "python",
   "nbconvert_exporter": "python",
   "pygments_lexer": "ipython3",
   "version": "3.10.6"
  },
  "orig_nbformat": 4,
  "vscode": {
   "interpreter": {
    "hash": "bb4badeff1c1a84dbbc32eb48fd237af44564825d0351354b5e73f8d50259fca"
   }
  }
 },
 "nbformat": 4,
 "nbformat_minor": 2
}
